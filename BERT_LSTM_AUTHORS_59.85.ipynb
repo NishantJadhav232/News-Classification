{
  "nbformat": 4,
  "nbformat_minor": 0,
  "metadata": {
    "colab": {
      "name": "BERT_LSTM_AUTHORS_60.ipynb",
      "provenance": [],
      "collapsed_sections": []
    },
    "kernelspec": {
      "name": "python3",
      "display_name": "Python 3"
    },
    "accelerator": "GPU"
  },
  "cells": [
    {
      "cell_type": "code",
      "metadata": {
        "id": "SwIwFIevzqIE",
        "colab_type": "code",
        "outputId": "b313bc9e-01c8-480d-dea0-bac9e9de2e19",
        "colab": {
          "base_uri": "https://localhost:8080/",
          "height": 118
        }
      },
      "source": [
        "!pip install bert-for-tf2\n",
        "!pip install sentencepiece"
      ],
      "execution_count": 47,
      "outputs": [
        {
          "output_type": "stream",
          "text": [
            "Requirement already satisfied: bert-for-tf2 in /usr/local/lib/python3.6/dist-packages (0.14.4)\n",
            "Requirement already satisfied: py-params>=0.9.6 in /usr/local/lib/python3.6/dist-packages (from bert-for-tf2) (0.9.7)\n",
            "Requirement already satisfied: params-flow>=0.8.0 in /usr/local/lib/python3.6/dist-packages (from bert-for-tf2) (0.8.2)\n",
            "Requirement already satisfied: numpy in /usr/local/lib/python3.6/dist-packages (from params-flow>=0.8.0->bert-for-tf2) (1.18.4)\n",
            "Requirement already satisfied: tqdm in /usr/local/lib/python3.6/dist-packages (from params-flow>=0.8.0->bert-for-tf2) (4.41.1)\n",
            "Requirement already satisfied: sentencepiece in /usr/local/lib/python3.6/dist-packages (0.1.91)\n"
          ],
          "name": "stdout"
        }
      ]
    },
    {
      "cell_type": "markdown",
      "metadata": {
        "id": "y6gzneyo03Xh",
        "colab_type": "text"
      },
      "source": [
        "### IMPORT"
      ]
    },
    {
      "cell_type": "code",
      "metadata": {
        "id": "0kUZekBKyrq6",
        "colab_type": "code",
        "colab": {
          "base_uri": "https://localhost:8080/",
          "height": 84
        },
        "outputId": "48c45ef3-2239-4d3e-d988-8efeee73318f"
      },
      "source": [
        "import pandas as pd\n",
        "import numpy as np\n",
        "try:\n",
        "  %tensorflow_version 2.x\n",
        "except:\n",
        "  pass\n",
        "import tensorflow as tf\n",
        "from google.colab import drive\n",
        "import tensorflow_hub as hub\n",
        "import re\n",
        "from tensorflow.keras import layers\n",
        "import bert\n",
        "import random\n",
        "import math\n",
        "from sklearn.model_selection import StratifiedShuffleSplit\n",
        "from sklearn.metrics import accuracy_score\n",
        "from tensorflow.keras.preprocessing.text import Tokenizer\n",
        "from tensorflow.keras.preprocessing.sequence import pad_sequences\n",
        "from tensorflow.keras.layers import Dense, Input, GlobalMaxPooling1D\n",
        "from tensorflow.keras.layers import LSTM, Embedding\n",
        "from tensorflow.keras.models import Model\n",
        "import pickle\n",
        "import nltk\n",
        "import seaborn as sns\n",
        "import matplotlib.pyplot as plt\n",
        "%matplotlib inline\n",
        "nltk.download('stopwords')\n",
        "nltk.download('words')\n",
        "from nltk.corpus import stopwords"
      ],
      "execution_count": 48,
      "outputs": [
        {
          "output_type": "stream",
          "text": [
            "[nltk_data] Downloading package stopwords to /root/nltk_data...\n",
            "[nltk_data]   Package stopwords is already up-to-date!\n",
            "[nltk_data] Downloading package words to /root/nltk_data...\n",
            "[nltk_data]   Package words is already up-to-date!\n"
          ],
          "name": "stdout"
        }
      ]
    },
    {
      "cell_type": "code",
      "metadata": {
        "id": "aveFrldw1IDt",
        "colab_type": "code",
        "outputId": "0e9a7266-0744-4246-8fb7-00bf24753318",
        "colab": {
          "base_uri": "https://localhost:8080/",
          "height": 34
        }
      },
      "source": [
        "drive.mount('/content/drive')"
      ],
      "execution_count": 49,
      "outputs": [
        {
          "output_type": "stream",
          "text": [
            "Drive already mounted at /content/drive; to attempt to forcibly remount, call drive.mount(\"/content/drive\", force_remount=True).\n"
          ],
          "name": "stdout"
        }
      ]
    },
    {
      "cell_type": "code",
      "metadata": {
        "id": "oQ460zUz1ScH",
        "colab_type": "code",
        "colab": {
          "base_uri": "https://localhost:8080/",
          "height": 279
        },
        "outputId": "9943c306-7b32-4c1c-8b22-7d60db3b612e"
      },
      "source": [
        "data =pickle.load(open('/content/drive/My Drive/NewsClassifier/News_data_with_length','rb'))\n",
        "data.head()"
      ],
      "execution_count": 50,
      "outputs": [
        {
          "output_type": "execute_result",
          "data": {
            "text/html": [
              "<div>\n",
              "<style scoped>\n",
              "    .dataframe tbody tr th:only-of-type {\n",
              "        vertical-align: middle;\n",
              "    }\n",
              "\n",
              "    .dataframe tbody tr th {\n",
              "        vertical-align: top;\n",
              "    }\n",
              "\n",
              "    .dataframe thead th {\n",
              "        text-align: right;\n",
              "    }\n",
              "</style>\n",
              "<table border=\"1\" class=\"dataframe\">\n",
              "  <thead>\n",
              "    <tr style=\"text-align: right;\">\n",
              "      <th></th>\n",
              "      <th>category</th>\n",
              "      <th>headline</th>\n",
              "      <th>authors</th>\n",
              "      <th>short_description</th>\n",
              "      <th>headline_length</th>\n",
              "      <th>short_description_length</th>\n",
              "      <th>information</th>\n",
              "      <th>info_length</th>\n",
              "    </tr>\n",
              "  </thead>\n",
              "  <tbody>\n",
              "    <tr>\n",
              "      <th>0</th>\n",
              "      <td>CRIME</td>\n",
              "      <td>There Were 2 Mass Shootings In Texas Last Week...</td>\n",
              "      <td>Melissa Jeltsen</td>\n",
              "      <td>She left her husband. He killed their children...</td>\n",
              "      <td>14</td>\n",
              "      <td>13</td>\n",
              "      <td>There Were 2 Mass Shootings In Texas Last Week...</td>\n",
              "      <td>27</td>\n",
              "    </tr>\n",
              "    <tr>\n",
              "      <th>1</th>\n",
              "      <td>ENTERTAINMENT</td>\n",
              "      <td>Will Smith Joins Diplo And Nicky Jam For The 2...</td>\n",
              "      <td>Andy McDonald</td>\n",
              "      <td>Of course it has a song.</td>\n",
              "      <td>14</td>\n",
              "      <td>6</td>\n",
              "      <td>Will Smith Joins Diplo And Nicky Jam For The 2...</td>\n",
              "      <td>20</td>\n",
              "    </tr>\n",
              "    <tr>\n",
              "      <th>2</th>\n",
              "      <td>ENTERTAINMENT</td>\n",
              "      <td>Hugh Grant Marries For The First Time At Age 57</td>\n",
              "      <td>Ron Dicker</td>\n",
              "      <td>The actor and his longtime girlfriend Anna Ebe...</td>\n",
              "      <td>10</td>\n",
              "      <td>15</td>\n",
              "      <td>Hugh Grant Marries For The First Time At Age 5...</td>\n",
              "      <td>25</td>\n",
              "    </tr>\n",
              "    <tr>\n",
              "      <th>3</th>\n",
              "      <td>ENTERTAINMENT</td>\n",
              "      <td>Jim Carrey Blasts 'Castrato' Adam Schiff And D...</td>\n",
              "      <td>Ron Dicker</td>\n",
              "      <td>The actor gives Dems an ass-kicking for not fi...</td>\n",
              "      <td>11</td>\n",
              "      <td>14</td>\n",
              "      <td>Jim Carrey Blasts 'Castrato' Adam Schiff And D...</td>\n",
              "      <td>25</td>\n",
              "    </tr>\n",
              "    <tr>\n",
              "      <th>4</th>\n",
              "      <td>ENTERTAINMENT</td>\n",
              "      <td>Julianna Margulies Uses Donald Trump Poop Bags...</td>\n",
              "      <td>Ron Dicker</td>\n",
              "      <td>The \"Dietland\" actress said using the bags is ...</td>\n",
              "      <td>13</td>\n",
              "      <td>13</td>\n",
              "      <td>Julianna Margulies Uses Donald Trump Poop Bags...</td>\n",
              "      <td>26</td>\n",
              "    </tr>\n",
              "  </tbody>\n",
              "</table>\n",
              "</div>"
            ],
            "text/plain": [
              "        category  ... info_length\n",
              "0          CRIME  ...          27\n",
              "1  ENTERTAINMENT  ...          20\n",
              "2  ENTERTAINMENT  ...          25\n",
              "3  ENTERTAINMENT  ...          25\n",
              "4  ENTERTAINMENT  ...          26\n",
              "\n",
              "[5 rows x 8 columns]"
            ]
          },
          "metadata": {
            "tags": []
          },
          "execution_count": 50
        }
      ]
    },
    {
      "cell_type": "code",
      "metadata": {
        "id": "iLH-jFVG5M6b",
        "colab_type": "code",
        "colab": {
          "base_uri": "https://localhost:8080/",
          "height": 195
        },
        "outputId": "b6684f13-1d4d-4a94-c76f-d762e0a3fc55"
      },
      "source": [
        "data = data[['category','authors']]\n",
        "data.head()"
      ],
      "execution_count": 51,
      "outputs": [
        {
          "output_type": "execute_result",
          "data": {
            "text/html": [
              "<div>\n",
              "<style scoped>\n",
              "    .dataframe tbody tr th:only-of-type {\n",
              "        vertical-align: middle;\n",
              "    }\n",
              "\n",
              "    .dataframe tbody tr th {\n",
              "        vertical-align: top;\n",
              "    }\n",
              "\n",
              "    .dataframe thead th {\n",
              "        text-align: right;\n",
              "    }\n",
              "</style>\n",
              "<table border=\"1\" class=\"dataframe\">\n",
              "  <thead>\n",
              "    <tr style=\"text-align: right;\">\n",
              "      <th></th>\n",
              "      <th>category</th>\n",
              "      <th>authors</th>\n",
              "    </tr>\n",
              "  </thead>\n",
              "  <tbody>\n",
              "    <tr>\n",
              "      <th>0</th>\n",
              "      <td>CRIME</td>\n",
              "      <td>Melissa Jeltsen</td>\n",
              "    </tr>\n",
              "    <tr>\n",
              "      <th>1</th>\n",
              "      <td>ENTERTAINMENT</td>\n",
              "      <td>Andy McDonald</td>\n",
              "    </tr>\n",
              "    <tr>\n",
              "      <th>2</th>\n",
              "      <td>ENTERTAINMENT</td>\n",
              "      <td>Ron Dicker</td>\n",
              "    </tr>\n",
              "    <tr>\n",
              "      <th>3</th>\n",
              "      <td>ENTERTAINMENT</td>\n",
              "      <td>Ron Dicker</td>\n",
              "    </tr>\n",
              "    <tr>\n",
              "      <th>4</th>\n",
              "      <td>ENTERTAINMENT</td>\n",
              "      <td>Ron Dicker</td>\n",
              "    </tr>\n",
              "  </tbody>\n",
              "</table>\n",
              "</div>"
            ],
            "text/plain": [
              "        category          authors\n",
              "0          CRIME  Melissa Jeltsen\n",
              "1  ENTERTAINMENT    Andy McDonald\n",
              "2  ENTERTAINMENT       Ron Dicker\n",
              "3  ENTERTAINMENT       Ron Dicker\n",
              "4  ENTERTAINMENT       Ron Dicker"
            ]
          },
          "metadata": {
            "tags": []
          },
          "execution_count": 51
        }
      ]
    },
    {
      "cell_type": "code",
      "metadata": {
        "id": "LII4l5bd5fAl",
        "colab_type": "code",
        "colab": {}
      },
      "source": [
        "def clean_text(text):\n",
        "  text = re.sub(r\"@[A-Za-z0-9]+\",\" \",text) # remove @usernames\n",
        "  text = re.sub(r\"https?://[A-Za-z0-9./]+\",\" \",text) #remove https links\n",
        "  text = re.sub(r\"[^A-Za-z.!?']\",\" \",text)  # keep only letters and few punctuations\n",
        "  text = re.sub(r\" +\",\" \",text) # remove extra spaces\n",
        "  text = text.lower()\n",
        "  return text"
      ],
      "execution_count": 0,
      "outputs": []
    },
    {
      "cell_type": "code",
      "metadata": {
        "id": "ejk3dn_X5l2h",
        "colab_type": "code",
        "colab": {}
      },
      "source": [
        "def remove_stop(msg):\n",
        "    nopunc = msg.split()\n",
        "    clean = [word for word in nopunc if word.lower() not in stopwords.words('english')]\n",
        "    clean = \" \".join(clean)\n",
        "    return clean"
      ],
      "execution_count": 0,
      "outputs": []
    },
    {
      "cell_type": "code",
      "metadata": {
        "id": "-XVntp0I5n1X",
        "colab_type": "code",
        "colab": {
          "base_uri": "https://localhost:8080/",
          "height": 279
        },
        "outputId": "4c5ecd27-bf92-4434-d490-57a4afe06771"
      },
      "source": [
        "# data['processed_info'] = data.authors.apply(clean_text)"
      ],
      "execution_count": 54,
      "outputs": [
        {
          "output_type": "error",
          "ename": "AttributeError",
          "evalue": "ignored",
          "traceback": [
            "\u001b[0;31m---------------------------------------------------------------------------\u001b[0m",
            "\u001b[0;31mAttributeError\u001b[0m                            Traceback (most recent call last)",
            "\u001b[0;32m<ipython-input-54-157c7232450f>\u001b[0m in \u001b[0;36m<module>\u001b[0;34m()\u001b[0m\n\u001b[0;32m----> 1\u001b[0;31m \u001b[0mdata\u001b[0m\u001b[0;34m[\u001b[0m\u001b[0;34m'processed_info'\u001b[0m\u001b[0;34m]\u001b[0m \u001b[0;34m=\u001b[0m \u001b[0mdata\u001b[0m\u001b[0;34m.\u001b[0m\u001b[0minformation\u001b[0m\u001b[0;34m.\u001b[0m\u001b[0mapply\u001b[0m\u001b[0;34m(\u001b[0m\u001b[0mclean_text\u001b[0m\u001b[0;34m)\u001b[0m\u001b[0;34m\u001b[0m\u001b[0;34m\u001b[0m\u001b[0m\n\u001b[0m",
            "\u001b[0;32m/usr/local/lib/python3.6/dist-packages/pandas/core/generic.py\u001b[0m in \u001b[0;36m__getattr__\u001b[0;34m(self, name)\u001b[0m\n\u001b[1;32m   5272\u001b[0m             \u001b[0;32mif\u001b[0m \u001b[0mself\u001b[0m\u001b[0;34m.\u001b[0m\u001b[0m_info_axis\u001b[0m\u001b[0;34m.\u001b[0m\u001b[0m_can_hold_identifiers_and_holds_name\u001b[0m\u001b[0;34m(\u001b[0m\u001b[0mname\u001b[0m\u001b[0;34m)\u001b[0m\u001b[0;34m:\u001b[0m\u001b[0;34m\u001b[0m\u001b[0;34m\u001b[0m\u001b[0m\n\u001b[1;32m   5273\u001b[0m                 \u001b[0;32mreturn\u001b[0m \u001b[0mself\u001b[0m\u001b[0;34m[\u001b[0m\u001b[0mname\u001b[0m\u001b[0;34m]\u001b[0m\u001b[0;34m\u001b[0m\u001b[0;34m\u001b[0m\u001b[0m\n\u001b[0;32m-> 5274\u001b[0;31m             \u001b[0;32mreturn\u001b[0m \u001b[0mobject\u001b[0m\u001b[0;34m.\u001b[0m\u001b[0m__getattribute__\u001b[0m\u001b[0;34m(\u001b[0m\u001b[0mself\u001b[0m\u001b[0;34m,\u001b[0m \u001b[0mname\u001b[0m\u001b[0;34m)\u001b[0m\u001b[0;34m\u001b[0m\u001b[0;34m\u001b[0m\u001b[0m\n\u001b[0m\u001b[1;32m   5275\u001b[0m \u001b[0;34m\u001b[0m\u001b[0m\n\u001b[1;32m   5276\u001b[0m     \u001b[0;32mdef\u001b[0m \u001b[0m__setattr__\u001b[0m\u001b[0;34m(\u001b[0m\u001b[0mself\u001b[0m\u001b[0;34m,\u001b[0m \u001b[0mname\u001b[0m\u001b[0;34m:\u001b[0m \u001b[0mstr\u001b[0m\u001b[0;34m,\u001b[0m \u001b[0mvalue\u001b[0m\u001b[0;34m)\u001b[0m \u001b[0;34m->\u001b[0m \u001b[0;32mNone\u001b[0m\u001b[0;34m:\u001b[0m\u001b[0;34m\u001b[0m\u001b[0;34m\u001b[0m\u001b[0m\n",
            "\u001b[0;31mAttributeError\u001b[0m: 'DataFrame' object has no attribute 'information'"
          ]
        }
      ]
    },
    {
      "cell_type": "code",
      "metadata": {
        "id": "f0hjomjq6SSs",
        "colab_type": "code",
        "colab": {}
      },
      "source": [
        "# data['processed_info'] = data.processed_info.apply(remove_stop)"
      ],
      "execution_count": 0,
      "outputs": []
    },
    {
      "cell_type": "code",
      "metadata": {
        "id": "avTg2W7f78GY",
        "colab_type": "code",
        "colab": {}
      },
      "source": [
        "X,y = data.authors.values, data.category.values"
      ],
      "execution_count": 0,
      "outputs": []
    },
    {
      "cell_type": "code",
      "metadata": {
        "id": "IDb2N_Eq7NrA",
        "colab_type": "code",
        "colab": {}
      },
      "source": [
        "pickle.dump((X,y),open('/content/drive/My Drive/NewsClassifier/stop_removed_info_and_label','wb'))"
      ],
      "execution_count": 0,
      "outputs": []
    },
    {
      "cell_type": "code",
      "metadata": {
        "id": "NG9jEnNb9i_8",
        "colab_type": "code",
        "colab": {}
      },
      "source": [
        ""
      ],
      "execution_count": 0,
      "outputs": []
    },
    {
      "cell_type": "markdown",
      "metadata": {
        "id": "5GRYzrLl1XWG",
        "colab_type": "text"
      },
      "source": [
        "#### USING BERT TOKENIZER"
      ]
    },
    {
      "cell_type": "code",
      "metadata": {
        "id": "hn1hemXL0rpY",
        "colab_type": "code",
        "colab": {}
      },
      "source": [
        "BertTokenizer = bert.bert_tokenization.FullTokenizer\n",
        "bert_layer = hub.KerasLayer(\"https://tfhub.dev/tensorflow/bert_en_uncased_L-12_H-768_A-12/1\",\n",
        "                            trainable=False)\n",
        "vocabulary_file = bert_layer.resolved_object.vocab_file.asset_path.numpy()\n",
        "to_lower_case = bert_layer.resolved_object.do_lower_case.numpy()\n",
        "tokenizer = BertTokenizer(vocabulary_file, to_lower_case)"
      ],
      "execution_count": 0,
      "outputs": []
    },
    {
      "cell_type": "code",
      "metadata": {
        "id": "eSRBYOYz0Rdj",
        "colab_type": "code",
        "colab": {}
      },
      "source": [
        "tag2idx ={}\n",
        "c=0\n",
        "for tag in set(y):\n",
        "    tag2idx[tag] = c\n",
        "    c+=1\n",
        "idx2tag = { v:k for k,v in tag2idx.items()}"
      ],
      "execution_count": 0,
      "outputs": []
    },
    {
      "cell_type": "code",
      "metadata": {
        "id": "5Cke3E9V067H",
        "colab_type": "code",
        "colab": {}
      },
      "source": [
        " data_X = [tokenizer.convert_tokens_to_ids(tokenizer.tokenize(sentence)) for sentence in X]\n",
        " data_y = [tag2idx[tag] for tag in y]"
      ],
      "execution_count": 0,
      "outputs": []
    },
    {
      "cell_type": "markdown",
      "metadata": {
        "id": "ivTAgQRX2S8u",
        "colab_type": "text"
      },
      "source": [
        "### SPLITTING OF SKEWED DATA"
      ]
    },
    {
      "cell_type": "code",
      "metadata": {
        "id": "kxB-Jbtg0UNJ",
        "colab_type": "code",
        "outputId": "f03c3a2e-ca0b-479d-cc09-6380966b130d",
        "colab": {
          "base_uri": "https://localhost:8080/",
          "height": 34
        }
      },
      "source": [
        "skf = StratifiedShuffleSplit(n_splits=2,test_size=0.2)\n",
        "skf.get_n_splits(data_X,data_y )"
      ],
      "execution_count": 61,
      "outputs": [
        {
          "output_type": "execute_result",
          "data": {
            "text/plain": [
              "2"
            ]
          },
          "metadata": {
            "tags": []
          },
          "execution_count": 61
        }
      ]
    },
    {
      "cell_type": "code",
      "metadata": {
        "id": "RB4gxxVx3FVj",
        "colab_type": "code",
        "colab": {}
      },
      "source": [
        "X_array = np.array(data_X)\n",
        "y_array = np.array(data_y)"
      ],
      "execution_count": 0,
      "outputs": []
    },
    {
      "cell_type": "code",
      "metadata": {
        "id": "Diw89S9N2urE",
        "colab_type": "code",
        "outputId": "e6149a82-e8fb-4ad9-ead5-326051ef06db",
        "colab": {
          "base_uri": "https://localhost:8080/",
          "height": 50
        }
      },
      "source": [
        "for train_index,test_index in skf.split(data_X,data_y):   ## Splitting into train and test_set\n",
        "  print(\"TRAIN:\", train_index, \"TEST:\", test_index)\n",
        "  #print(len(train_index))\n",
        "  X_train,X_test = X_array[train_index], X_array[test_index]\n",
        "  y_train,y_test = y_array[train_index], y_array[test_index]\n"
      ],
      "execution_count": 63,
      "outputs": [
        {
          "output_type": "stream",
          "text": [
            "TRAIN: [ 75355  53429  15650 ... 186334  75425  71421] TEST: [ 19575 105103  79293 ...  78207 111108 181699]\n",
            "TRAIN: [ 73904 115975 137276 ... 122184  18976 186950] TEST: [ 63077  42256 172105 ...  36147 174681 158460]\n"
          ],
          "name": "stdout"
        }
      ]
    },
    {
      "cell_type": "markdown",
      "metadata": {
        "id": "7LsRCXOFfGjZ",
        "colab_type": "text"
      },
      "source": [
        "###### PADDING the entire data and truncating to length 20"
      ]
    },
    {
      "cell_type": "code",
      "metadata": {
        "id": "grGhw6SC29t-",
        "colab_type": "code",
        "colab": {}
      },
      "source": [
        "X_train =tf.keras.preprocessing.sequence.pad_sequences(\n",
        "    X_train, maxlen=20, dtype='int32', padding='pre', truncating='pre',\n",
        "    value=0.0\n",
        ")\n",
        "X_test =tf.keras.preprocessing.sequence.pad_sequences(\n",
        "    X_test, maxlen=20, dtype='int32', padding='pre', truncating='pre',\n",
        "    value=0.0\n",
        ")"
      ],
      "execution_count": 0,
      "outputs": []
    },
    {
      "cell_type": "code",
      "metadata": {
        "id": "XKsE4f_PMFr4",
        "colab_type": "code",
        "outputId": "6ed9046a-65f7-4b24-8ca1-6db299011bd5",
        "colab": {
          "base_uri": "https://localhost:8080/",
          "height": 50
        }
      },
      "source": [
        "print(X_train.shape)\n",
        "print(X_test.shape)"
      ],
      "execution_count": 65,
      "outputs": [
        {
          "output_type": "stream",
          "text": [
            "(157112, 20)\n",
            "(39278, 20)\n"
          ],
          "name": "stdout"
        }
      ]
    },
    {
      "cell_type": "code",
      "metadata": {
        "id": "Ub0X9ML74hBA",
        "colab_type": "code",
        "outputId": "737ce0c2-c139-4a57-d726-0758e881d149",
        "colab": {
          "base_uri": "https://localhost:8080/",
          "height": 50
        }
      },
      "source": [
        "from sklearn.model_selection import train_test_split  ### Splitting into test and cross_validation set\n",
        "X_val, X_test, y_val, y_test = train_test_split(\n",
        "     X_test, y_test, test_size=0.5, random_state=42)\n",
        "print(X_val.shape)\n",
        "print(X_test.shape)"
      ],
      "execution_count": 66,
      "outputs": [
        {
          "output_type": "stream",
          "text": [
            "(19639, 20)\n",
            "(19639, 20)\n"
          ],
          "name": "stdout"
        }
      ]
    },
    {
      "cell_type": "code",
      "metadata": {
        "id": "Gx07j97qOh1C",
        "colab_type": "code",
        "outputId": "97e5fe17-63e9-4bf7-dde6-1dc9aa4134fe",
        "colab": {
          "base_uri": "https://localhost:8080/",
          "height": 711
        }
      },
      "source": [
        "df = pd.DataFrame(y_test,columns=['targets'])             \n",
        "index = pd.DataFrame(df.targets.value_counts().index)\n",
        "counts = pd.DataFrame(df.targets.value_counts().values)\n",
        "concat_df = pd.concat([index,counts],axis=1)\n",
        "concat_df.columns =['tag','count']\n",
        "# concat_df.head(2)\n",
        "labels = [idx2tag[idx] for idx in index]\n",
        "def get_names(x):\n",
        "  return idx2tag[x]\n",
        "concat_df['tag_name'] = concat_df.tag.apply(get_names)\n",
        "plt.figure(figsize=(25,12))\n",
        "sns.set(font_scale=0.5)\n",
        "sns.barplot(x=\"tag_name\",y=\"count\",data=concat_df)       ### Distribution of classes in Training set"
      ],
      "execution_count": 67,
      "outputs": [
        {
          "output_type": "execute_result",
          "data": {
            "text/plain": [
              "<matplotlib.axes._subplots.AxesSubplot at 0x7f97c21b6898>"
            ]
          },
          "metadata": {
            "tags": []
          },
          "execution_count": 67
        },
        {
          "output_type": "display_data",
          "data": {
            "image/png": "[encoded data removed]",
            "text/plain": [
              "<Figure size 1800x864 with 1 Axes>"
            ]
          },
          "metadata": {
            "tags": [],
            "needs_background": "light"
          }
        }
      ]
    },
    {
      "cell_type": "markdown",
      "metadata": {
        "id": "L5vO2mS6cHKA",
        "colab_type": "text"
      },
      "source": [
        "### MODEL "
      ]
    },
    {
      "cell_type": "code",
      "metadata": {
        "id": "KBgJIFOoWJg6",
        "colab_type": "code",
        "colab": {}
      },
      "source": [
        "V = len(tokenizer.vocab)\n",
        "model = tf.keras.Sequential([\n",
        "    \n",
        "    tf.keras.layers.Embedding(V, 64),\n",
        "    tf.keras.layers.Dropout(0.5),\n",
        "    tf.keras.layers.Bidirectional(tf.keras.layers.LSTM(128)),\n",
        "    tf.keras.layers.Dropout(0.5),\n",
        "    tf.keras.layers.Dense(128, activation='relu'),\n",
        "    tf.keras.layers.Dense(41, activation='softmax')\n",
        "])\n"
      ],
      "execution_count": 0,
      "outputs": []
    },
    {
      "cell_type": "markdown",
      "metadata": {
        "id": "zXEaTmlWcdLk",
        "colab_type": "text"
      },
      "source": [
        "#### Checkpoints"
      ]
    },
    {
      "cell_type": "code",
      "metadata": {
        "id": "_8oEnAsscVAY",
        "colab_type": "code",
        "colab": {
          "base_uri": "https://localhost:8080/",
          "height": 34
        },
        "outputId": "1241ef09-c657-4f0a-85e4-3d18dff49449"
      },
      "source": [
        "checkpoint_directory = \"/content/drive/My Drive/NewsClassifier/LSTM/ckpts\"\n",
        "checkpoint = tf.train.Checkpoint(model=model) \n",
        "manager = tf.train.CheckpointManager(checkpoint,checkpoint_directory,max_to_keep=1)\n",
        "if manager.latest_checkpoint:\n",
        "  checkpoint.restore(manager.latest_checkpoint) #Restores this Checkpoint and any objects it depends on.\n",
        "  print(\"Latest Checkpoint restored!! \") "
      ],
      "execution_count": 69,
      "outputs": [
        {
          "output_type": "stream",
          "text": [
            "Latest Checkpoint restored!! \n"
          ],
          "name": "stdout"
        }
      ]
    },
    {
      "cell_type": "markdown",
      "metadata": {
        "id": "uLkJ1yPde8q8",
        "colab_type": "text"
      },
      "source": [
        "### Train"
      ]
    },
    {
      "cell_type": "code",
      "metadata": {
        "id": "6SzVDQq2cgLv",
        "colab_type": "code",
        "outputId": "b99b230a-7632-4b1c-abe5-3d3253bbc475",
        "colab": {
          "base_uri": "https://localhost:8080/",
          "height": 370
        }
      },
      "source": [
        "model.compile(loss='sparse_categorical_crossentropy', optimizer='adam', metrics=['sparse_categorical_accuracy'])\n",
        "num_epochs = 10\n",
        "history = model.fit(X_train,y_train, epochs=num_epochs, verbose=2,batch_size=32,validation_data=(X_val,y_val))\n",
        "manager.save()"
      ],
      "execution_count": 70,
      "outputs": [
        {
          "output_type": "stream",
          "text": [
            "Epoch 1/10\n",
            "4910/4910 - 93s - loss: 1.8397 - sparse_categorical_accuracy: 0.5119 - val_loss: 1.5355 - val_sparse_categorical_accuracy: 0.5840\n",
            "Epoch 2/10\n",
            "4910/4910 - 93s - loss: 1.6146 - sparse_categorical_accuracy: 0.5651 - val_loss: 1.4806 - val_sparse_categorical_accuracy: 0.5959\n",
            "Epoch 3/10\n",
            "4910/4910 - 95s - loss: 1.5442 - sparse_categorical_accuracy: 0.5809 - val_loss: 1.4688 - val_sparse_categorical_accuracy: 0.6023\n",
            "Epoch 4/10\n",
            "4910/4910 - 94s - loss: 1.5033 - sparse_categorical_accuracy: 0.5903 - val_loss: 1.4560 - val_sparse_categorical_accuracy: 0.6050\n",
            "Epoch 5/10\n",
            "4910/4910 - 95s - loss: 1.4736 - sparse_categorical_accuracy: 0.5982 - val_loss: 1.4509 - val_sparse_categorical_accuracy: 0.6060\n",
            "Epoch 6/10\n",
            "4910/4910 - 95s - loss: 1.4492 - sparse_categorical_accuracy: 0.6035 - val_loss: 1.4516 - val_sparse_categorical_accuracy: 0.6069\n",
            "Epoch 7/10\n",
            "4910/4910 - 96s - loss: 1.4330 - sparse_categorical_accuracy: 0.6056 - val_loss: 1.4457 - val_sparse_categorical_accuracy: 0.6093\n",
            "Epoch 8/10\n",
            "4910/4910 - 95s - loss: 1.4179 - sparse_categorical_accuracy: 0.6095 - val_loss: 1.4428 - val_sparse_categorical_accuracy: 0.6091\n",
            "Epoch 9/10\n",
            "4910/4910 - 96s - loss: 1.4050 - sparse_categorical_accuracy: 0.6123 - val_loss: 1.4616 - val_sparse_categorical_accuracy: 0.6089\n",
            "Epoch 10/10\n",
            "4910/4910 - 95s - loss: 1.3940 - sparse_categorical_accuracy: 0.6148 - val_loss: 1.4538 - val_sparse_categorical_accuracy: 0.6101\n"
          ],
          "name": "stdout"
        },
        {
          "output_type": "execute_result",
          "data": {
            "text/plain": [
              "'/content/drive/My Drive/NewsClassifier/LSTM/ckpts/ckpt-3'"
            ]
          },
          "metadata": {
            "tags": []
          },
          "execution_count": 70
        }
      ]
    },
    {
      "cell_type": "code",
      "metadata": {
        "id": "o1pgHMk0guhE",
        "colab_type": "code",
        "outputId": "884ba2c6-1fb5-486e-dbd1-b440e024dab9",
        "colab": {
          "base_uri": "https://localhost:8080/",
          "height": 280
        }
      },
      "source": [
        "plt.plot(history.history['loss'])\n",
        "plt.plot(history.history['val_loss'])"
      ],
      "execution_count": 71,
      "outputs": [
        {
          "output_type": "execute_result",
          "data": {
            "text/plain": [
              "[<matplotlib.lines.Line2D at 0x7f97085d2dd8>]"
            ]
          },
          "metadata": {
            "tags": []
          },
          "execution_count": 71
        },
        {
          "output_type": "display_data",
          "data": {
            "image/png": "[encoded data removed]",
            "text/plain": [
              "<Figure size 432x288 with 1 Axes>"
            ]
          },
          "metadata": {
            "tags": []
          }
        }
      ]
    },
    {
      "cell_type": "code",
      "metadata": {
        "id": "arfVXqFSgydq",
        "colab_type": "code",
        "outputId": "f903139f-b20e-4c70-e574-1adf8c7b1ddc",
        "colab": {
          "base_uri": "https://localhost:8080/",
          "height": 280
        }
      },
      "source": [
        "plt.plot(history.history['sparse_categorical_accuracy'])\n",
        "plt.plot(history.history['val_sparse_categorical_accuracy'])"
      ],
      "execution_count": 72,
      "outputs": [
        {
          "output_type": "execute_result",
          "data": {
            "text/plain": [
              "[<matplotlib.lines.Line2D at 0x7f974c740cc0>]"
            ]
          },
          "metadata": {
            "tags": []
          },
          "execution_count": 72
        },
        {
          "output_type": "display_data",
          "data": {
            "image/png": "[encoded data removed]",
            "text/plain": [
              "<Figure size 432x288 with 1 Axes>"
            ]
          },
          "metadata": {
            "tags": []
          }
        }
      ]
    },
    {
      "cell_type": "code",
      "metadata": {
        "id": "LpKm5EFrcyJt",
        "colab_type": "code",
        "outputId": "adbfbd30-c8dc-480c-9ebd-a3019fd6db46",
        "colab": {
          "base_uri": "https://localhost:8080/",
          "height": 50
        }
      },
      "source": [
        "results = model.evaluate(X_test,y_test)\n",
        "print(results)"
      ],
      "execution_count": 73,
      "outputs": [
        {
          "output_type": "stream",
          "text": [
            "614/614 [==============================] - 2s 3ms/step - loss: 1.4918 - sparse_categorical_accuracy: 0.5987\n",
            "[1.4918235540390015, 0.5987066626548767]\n"
          ],
          "name": "stdout"
        }
      ]
    },
    {
      "cell_type": "code",
      "metadata": {
        "id": "2TujwCXkdq1p",
        "colab_type": "code",
        "colab": {}
      },
      "source": [
        ""
      ],
      "execution_count": 0,
      "outputs": []
    }
  ]
}
