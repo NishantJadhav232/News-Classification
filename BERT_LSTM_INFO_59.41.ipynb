{
  "nbformat": 4,
  "nbformat_minor": 0,
  "metadata": {
    "colab": {
      "name": "BERT_LSTM_INFO.ipynb",
      "provenance": [],
      "collapsed_sections": []
    },
    "kernelspec": {
      "name": "python3",
      "display_name": "Python 3"
    },
    "accelerator": "GPU"
  },
  "cells": [
    {
      "cell_type": "code",
      "metadata": {
        "id": "SwIwFIevzqIE",
        "colab_type": "code",
        "outputId": "392d381a-9728-49ff-ee3a-cc444062ef7e",
        "colab": {
          "base_uri": "https://localhost:8080/",
          "height": 470
        }
      },
      "source": [
        "!pip install bert-for-tf2\n",
        "!pip install sentencepiece"
      ],
      "execution_count": 1,
      "outputs": [
        {
          "output_type": "stream",
          "text": [
            "Collecting bert-for-tf2\n",
            "\u001b[?25l  Downloading https://files.pythonhosted.org/packages/35/5c/6439134ecd17b33fe0396fb0b7d6ce3c5a120c42a4516ba0e9a2d6e43b25/bert-for-tf2-0.14.4.tar.gz (40kB)\n",
            "\r\u001b[K     |████████                        | 10kB 27.8MB/s eta 0:00:01\r\u001b[K     |████████████████▏               | 20kB 3.0MB/s eta 0:00:01\r\u001b[K     |████████████████████████▎       | 30kB 4.0MB/s eta 0:00:01\r\u001b[K     |████████████████████████████████| 40kB 2.4MB/s \n",
            "\u001b[?25hCollecting py-params>=0.9.6\n",
            "  Downloading https://files.pythonhosted.org/packages/a4/bf/c1c70d5315a8677310ea10a41cfc41c5970d9b37c31f9c90d4ab98021fd1/py-params-0.9.7.tar.gz\n",
            "Collecting params-flow>=0.8.0\n",
            "  Downloading https://files.pythonhosted.org/packages/a9/95/ff49f5ebd501f142a6f0aaf42bcfd1c192dc54909d1d9eb84ab031d46056/params-flow-0.8.2.tar.gz\n",
            "Requirement already satisfied: numpy in /usr/local/lib/python3.6/dist-packages (from params-flow>=0.8.0->bert-for-tf2) (1.18.4)\n",
            "Requirement already satisfied: tqdm in /usr/local/lib/python3.6/dist-packages (from params-flow>=0.8.0->bert-for-tf2) (4.41.1)\n",
            "Building wheels for collected packages: bert-for-tf2, py-params, params-flow\n",
            "  Building wheel for bert-for-tf2 (setup.py) ... \u001b[?25l\u001b[?25hdone\n",
            "  Created wheel for bert-for-tf2: filename=bert_for_tf2-0.14.4-cp36-none-any.whl size=30114 sha256=b990a6fdf65010d1d28b6d4536b1ea66e3450b5180343462439a142e34fe7f9b\n",
            "  Stored in directory: /root/.cache/pip/wheels/cf/3f/4d/79d7735015a5f523648df90d871ce8e89a7df8185f7703eeab\n",
            "  Building wheel for py-params (setup.py) ... \u001b[?25l\u001b[?25hdone\n",
            "  Created wheel for py-params: filename=py_params-0.9.7-cp36-none-any.whl size=7302 sha256=52f0f006a1f65dde95ecbc8eced35144622edd4c3b98137e4a6646f6ef0a77c0\n",
            "  Stored in directory: /root/.cache/pip/wheels/67/f5/19/b461849a50aefdf4bab47c4756596e82ee2118b8278e5a1980\n",
            "  Building wheel for params-flow (setup.py) ... \u001b[?25l\u001b[?25hdone\n",
            "  Created wheel for params-flow: filename=params_flow-0.8.2-cp36-none-any.whl size=19473 sha256=f7896c92756bd913d81c0873f9e423ae0122d84ba0e22513b27b7d37935a4c7b\n",
            "  Stored in directory: /root/.cache/pip/wheels/08/c8/7f/81c86b9ff2b86e2c477e3914175be03e679e596067dc630c06\n",
            "Successfully built bert-for-tf2 py-params params-flow\n",
            "Installing collected packages: py-params, params-flow, bert-for-tf2\n",
            "Successfully installed bert-for-tf2-0.14.4 params-flow-0.8.2 py-params-0.9.7\n",
            "Collecting sentencepiece\n",
            "\u001b[?25l  Downloading https://files.pythonhosted.org/packages/d4/a4/d0a884c4300004a78cca907a6ff9a5e9fe4f090f5d95ab341c53d28cbc58/sentencepiece-0.1.91-cp36-cp36m-manylinux1_x86_64.whl (1.1MB)\n",
            "\u001b[K     |████████████████████████████████| 1.1MB 4.9MB/s \n",
            "\u001b[?25hInstalling collected packages: sentencepiece\n",
            "Successfully installed sentencepiece-0.1.91\n"
          ],
          "name": "stdout"
        }
      ]
    },
    {
      "cell_type": "markdown",
      "metadata": {
        "id": "y6gzneyo03Xh",
        "colab_type": "text"
      },
      "source": [
        "### IMPORT"
      ]
    },
    {
      "cell_type": "code",
      "metadata": {
        "id": "0kUZekBKyrq6",
        "colab_type": "code",
        "colab": {
          "base_uri": "https://localhost:8080/",
          "height": 138
        },
        "outputId": "54d4b68a-4a6c-4028-c54b-b2586ad1c771"
      },
      "source": [
        "import pandas as pd\n",
        "import numpy as np\n",
        "try:\n",
        "  %tensorflow_version 2.x\n",
        "except:\n",
        "  pass\n",
        "import tensorflow as tf\n",
        "from google.colab import drive\n",
        "import tensorflow_hub as hub\n",
        "import re\n",
        "from tensorflow.keras import layers\n",
        "import bert\n",
        "import random\n",
        "import math\n",
        "from sklearn.model_selection import StratifiedShuffleSplit\n",
        "from sklearn.metrics import accuracy_score\n",
        "from tensorflow.keras.preprocessing.text import Tokenizer\n",
        "from tensorflow.keras.preprocessing.sequence import pad_sequences\n",
        "from tensorflow.keras.layers import Dense, Input, GlobalMaxPooling1D\n",
        "from tensorflow.keras.layers import LSTM, Embedding\n",
        "from tensorflow.keras.models import Model\n",
        "import pickle\n",
        "import nltk\n",
        "import seaborn as sns\n",
        "import matplotlib.pyplot as plt\n",
        "%matplotlib inline\n",
        "nltk.download('stopwords')\n",
        "nltk.download('words')\n",
        "from nltk.corpus import stopwords"
      ],
      "execution_count": 38,
      "outputs": [
        {
          "output_type": "stream",
          "text": [
            "[nltk_data] Downloading package stopwords to /root/nltk_data...\n",
            "[nltk_data]   Package stopwords is already up-to-date!\n",
            "[nltk_data] Downloading package words to /root/nltk_data...\n",
            "[nltk_data]   Package words is already up-to-date!\n"
          ],
          "name": "stdout"
        },
        {
          "output_type": "stream",
          "text": [
            "/usr/local/lib/python3.6/dist-packages/statsmodels/tools/_testing.py:19: FutureWarning: pandas.util.testing is deprecated. Use the functions in the public API at pandas.testing instead.\n",
            "  import pandas.util.testing as tm\n"
          ],
          "name": "stderr"
        }
      ]
    },
    {
      "cell_type": "code",
      "metadata": {
        "id": "aveFrldw1IDt",
        "colab_type": "code",
        "outputId": "c0c05d29-1eea-4fa0-e235-610aa6e8c4cf",
        "colab": {
          "base_uri": "https://localhost:8080/",
          "height": 121
        }
      },
      "source": [
        "drive.mount('/content/drive')"
      ],
      "execution_count": 3,
      "outputs": [
        {
          "output_type": "stream",
          "text": [
            "Go to this URL in a browser: https://accounts.google.com/o/oauth2/auth?client_id=947318989803-6bn6qk8qdgf4n4g3pfee6491hc0brc4i.apps.googleusercontent.com&redirect_uri=urn%3aietf%3awg%3aoauth%3a2.0%3aoob&response_type=code&scope=email%20https%3a%2f%2fwww.googleapis.com%2fauth%2fdocs.test%20https%3a%2f%2fwww.googleapis.com%2fauth%2fdrive%20https%3a%2f%2fwww.googleapis.com%2fauth%2fdrive.photos.readonly%20https%3a%2f%2fwww.googleapis.com%2fauth%2fpeopleapi.readonly\n",
            "\n",
            "Enter your authorization code:\n",
            "··········\n",
            "Mounted at /content/drive\n"
          ],
          "name": "stdout"
        }
      ]
    },
    {
      "cell_type": "code",
      "metadata": {
        "id": "oQ460zUz1ScH",
        "colab_type": "code",
        "colab": {
          "base_uri": "https://localhost:8080/",
          "height": 279
        },
        "outputId": "8bf61429-1205-4f60-f3b8-c5ad684ceee0"
      },
      "source": [
        "data =pickle.load(open('/content/drive/My Drive/NewsClassifier/News_data_with_length','rb'))\n",
        "data.head()"
      ],
      "execution_count": 5,
      "outputs": [
        {
          "output_type": "execute_result",
          "data": {
            "text/html": [
              "<div>\n",
              "<style scoped>\n",
              "    .dataframe tbody tr th:only-of-type {\n",
              "        vertical-align: middle;\n",
              "    }\n",
              "\n",
              "    .dataframe tbody tr th {\n",
              "        vertical-align: top;\n",
              "    }\n",
              "\n",
              "    .dataframe thead th {\n",
              "        text-align: right;\n",
              "    }\n",
              "</style>\n",
              "<table border=\"1\" class=\"dataframe\">\n",
              "  <thead>\n",
              "    <tr style=\"text-align: right;\">\n",
              "      <th></th>\n",
              "      <th>category</th>\n",
              "      <th>headline</th>\n",
              "      <th>authors</th>\n",
              "      <th>short_description</th>\n",
              "      <th>headline_length</th>\n",
              "      <th>short_description_length</th>\n",
              "      <th>information</th>\n",
              "      <th>info_length</th>\n",
              "    </tr>\n",
              "  </thead>\n",
              "  <tbody>\n",
              "    <tr>\n",
              "      <th>0</th>\n",
              "      <td>CRIME</td>\n",
              "      <td>There Were 2 Mass Shootings In Texas Last Week...</td>\n",
              "      <td>Melissa Jeltsen</td>\n",
              "      <td>She left her husband. He killed their children...</td>\n",
              "      <td>14</td>\n",
              "      <td>13</td>\n",
              "      <td>There Were 2 Mass Shootings In Texas Last Week...</td>\n",
              "      <td>27</td>\n",
              "    </tr>\n",
              "    <tr>\n",
              "      <th>1</th>\n",
              "      <td>ENTERTAINMENT</td>\n",
              "      <td>Will Smith Joins Diplo And Nicky Jam For The 2...</td>\n",
              "      <td>Andy McDonald</td>\n",
              "      <td>Of course it has a song.</td>\n",
              "      <td>14</td>\n",
              "      <td>6</td>\n",
              "      <td>Will Smith Joins Diplo And Nicky Jam For The 2...</td>\n",
              "      <td>20</td>\n",
              "    </tr>\n",
              "    <tr>\n",
              "      <th>2</th>\n",
              "      <td>ENTERTAINMENT</td>\n",
              "      <td>Hugh Grant Marries For The First Time At Age 57</td>\n",
              "      <td>Ron Dicker</td>\n",
              "      <td>The actor and his longtime girlfriend Anna Ebe...</td>\n",
              "      <td>10</td>\n",
              "      <td>15</td>\n",
              "      <td>Hugh Grant Marries For The First Time At Age 5...</td>\n",
              "      <td>25</td>\n",
              "    </tr>\n",
              "    <tr>\n",
              "      <th>3</th>\n",
              "      <td>ENTERTAINMENT</td>\n",
              "      <td>Jim Carrey Blasts 'Castrato' Adam Schiff And D...</td>\n",
              "      <td>Ron Dicker</td>\n",
              "      <td>The actor gives Dems an ass-kicking for not fi...</td>\n",
              "      <td>11</td>\n",
              "      <td>14</td>\n",
              "      <td>Jim Carrey Blasts 'Castrato' Adam Schiff And D...</td>\n",
              "      <td>25</td>\n",
              "    </tr>\n",
              "    <tr>\n",
              "      <th>4</th>\n",
              "      <td>ENTERTAINMENT</td>\n",
              "      <td>Julianna Margulies Uses Donald Trump Poop Bags...</td>\n",
              "      <td>Ron Dicker</td>\n",
              "      <td>The \"Dietland\" actress said using the bags is ...</td>\n",
              "      <td>13</td>\n",
              "      <td>13</td>\n",
              "      <td>Julianna Margulies Uses Donald Trump Poop Bags...</td>\n",
              "      <td>26</td>\n",
              "    </tr>\n",
              "  </tbody>\n",
              "</table>\n",
              "</div>"
            ],
            "text/plain": [
              "        category  ... info_length\n",
              "0          CRIME  ...          27\n",
              "1  ENTERTAINMENT  ...          20\n",
              "2  ENTERTAINMENT  ...          25\n",
              "3  ENTERTAINMENT  ...          25\n",
              "4  ENTERTAINMENT  ...          26\n",
              "\n",
              "[5 rows x 8 columns]"
            ]
          },
          "metadata": {
            "tags": []
          },
          "execution_count": 5
        }
      ]
    },
    {
      "cell_type": "code",
      "metadata": {
        "id": "iLH-jFVG5M6b",
        "colab_type": "code",
        "colab": {
          "base_uri": "https://localhost:8080/",
          "height": 195
        },
        "outputId": "e3628a83-6cb9-453a-cbf7-edf97f53e655"
      },
      "source": [
        "data = data[['category','information']]\n",
        "data.head()"
      ],
      "execution_count": 6,
      "outputs": [
        {
          "output_type": "execute_result",
          "data": {
            "text/html": [
              "<div>\n",
              "<style scoped>\n",
              "    .dataframe tbody tr th:only-of-type {\n",
              "        vertical-align: middle;\n",
              "    }\n",
              "\n",
              "    .dataframe tbody tr th {\n",
              "        vertical-align: top;\n",
              "    }\n",
              "\n",
              "    .dataframe thead th {\n",
              "        text-align: right;\n",
              "    }\n",
              "</style>\n",
              "<table border=\"1\" class=\"dataframe\">\n",
              "  <thead>\n",
              "    <tr style=\"text-align: right;\">\n",
              "      <th></th>\n",
              "      <th>category</th>\n",
              "      <th>information</th>\n",
              "    </tr>\n",
              "  </thead>\n",
              "  <tbody>\n",
              "    <tr>\n",
              "      <th>0</th>\n",
              "      <td>CRIME</td>\n",
              "      <td>There Were 2 Mass Shootings In Texas Last Week...</td>\n",
              "    </tr>\n",
              "    <tr>\n",
              "      <th>1</th>\n",
              "      <td>ENTERTAINMENT</td>\n",
              "      <td>Will Smith Joins Diplo And Nicky Jam For The 2...</td>\n",
              "    </tr>\n",
              "    <tr>\n",
              "      <th>2</th>\n",
              "      <td>ENTERTAINMENT</td>\n",
              "      <td>Hugh Grant Marries For The First Time At Age 5...</td>\n",
              "    </tr>\n",
              "    <tr>\n",
              "      <th>3</th>\n",
              "      <td>ENTERTAINMENT</td>\n",
              "      <td>Jim Carrey Blasts 'Castrato' Adam Schiff And D...</td>\n",
              "    </tr>\n",
              "    <tr>\n",
              "      <th>4</th>\n",
              "      <td>ENTERTAINMENT</td>\n",
              "      <td>Julianna Margulies Uses Donald Trump Poop Bags...</td>\n",
              "    </tr>\n",
              "  </tbody>\n",
              "</table>\n",
              "</div>"
            ],
            "text/plain": [
              "        category                                        information\n",
              "0          CRIME  There Were 2 Mass Shootings In Texas Last Week...\n",
              "1  ENTERTAINMENT  Will Smith Joins Diplo And Nicky Jam For The 2...\n",
              "2  ENTERTAINMENT  Hugh Grant Marries For The First Time At Age 5...\n",
              "3  ENTERTAINMENT  Jim Carrey Blasts 'Castrato' Adam Schiff And D...\n",
              "4  ENTERTAINMENT  Julianna Margulies Uses Donald Trump Poop Bags..."
            ]
          },
          "metadata": {
            "tags": []
          },
          "execution_count": 6
        }
      ]
    },
    {
      "cell_type": "code",
      "metadata": {
        "id": "LII4l5bd5fAl",
        "colab_type": "code",
        "colab": {}
      },
      "source": [
        "def clean_text(text):\n",
        "  text = re.sub(r\"@[A-Za-z0-9]+\",\" \",text) # remove @usernames\n",
        "  text = re.sub(r\"https?://[A-Za-z0-9./]+\",\" \",text) #remove https links\n",
        "  text = re.sub(r\"[^A-Za-z.!?']\",\" \",text)  # keep only letters and few punctuations\n",
        "  text = re.sub(r\" +\",\" \",text) # remove extra spaces\n",
        "  text = text.lower()\n",
        "  return text"
      ],
      "execution_count": 0,
      "outputs": []
    },
    {
      "cell_type": "code",
      "metadata": {
        "id": "ejk3dn_X5l2h",
        "colab_type": "code",
        "colab": {}
      },
      "source": [
        "def remove_stop(msg):\n",
        "    nopunc = msg.split()\n",
        "    clean = [word for word in nopunc if word.lower() not in stopwords.words('english')]\n",
        "    clean = \" \".join(clean)\n",
        "    return clean"
      ],
      "execution_count": 0,
      "outputs": []
    },
    {
      "cell_type": "code",
      "metadata": {
        "id": "-XVntp0I5n1X",
        "colab_type": "code",
        "colab": {}
      },
      "source": [
        "data['processed_info'] = data.information.apply(clean_text)"
      ],
      "execution_count": 0,
      "outputs": []
    },
    {
      "cell_type": "code",
      "metadata": {
        "id": "f0hjomjq6SSs",
        "colab_type": "code",
        "colab": {}
      },
      "source": [
        "data['processed_info'] = data.processed_info.apply(remove_stop)"
      ],
      "execution_count": 0,
      "outputs": []
    },
    {
      "cell_type": "code",
      "metadata": {
        "id": "avTg2W7f78GY",
        "colab_type": "code",
        "colab": {}
      },
      "source": [
        "X,y = data.processed_info.values, data.category.values"
      ],
      "execution_count": 0,
      "outputs": []
    },
    {
      "cell_type": "code",
      "metadata": {
        "id": "IDb2N_Eq7NrA",
        "colab_type": "code",
        "colab": {}
      },
      "source": [
        "pickle.dump((X,y),open('/content/drive/My Drive/NewsClassifier/stop_removed_info_and_label','wb'))"
      ],
      "execution_count": 0,
      "outputs": []
    },
    {
      "cell_type": "code",
      "metadata": {
        "id": "NG9jEnNb9i_8",
        "colab_type": "code",
        "colab": {}
      },
      "source": [
        ""
      ],
      "execution_count": 0,
      "outputs": []
    },
    {
      "cell_type": "markdown",
      "metadata": {
        "id": "5GRYzrLl1XWG",
        "colab_type": "text"
      },
      "source": [
        "#### USING BERT TOKENIZER"
      ]
    },
    {
      "cell_type": "code",
      "metadata": {
        "id": "hn1hemXL0rpY",
        "colab_type": "code",
        "colab": {}
      },
      "source": [
        "BertTokenizer = bert.bert_tokenization.FullTokenizer\n",
        "bert_layer = hub.KerasLayer(\"https://tfhub.dev/tensorflow/bert_en_uncased_L-12_H-768_A-12/1\",\n",
        "                            trainable=False)\n",
        "vocabulary_file = bert_layer.resolved_object.vocab_file.asset_path.numpy()\n",
        "to_lower_case = bert_layer.resolved_object.do_lower_case.numpy()\n",
        "tokenizer = BertTokenizer(vocabulary_file, to_lower_case)"
      ],
      "execution_count": 0,
      "outputs": []
    },
    {
      "cell_type": "code",
      "metadata": {
        "id": "eSRBYOYz0Rdj",
        "colab_type": "code",
        "colab": {}
      },
      "source": [
        "tag2idx ={}\n",
        "c=0\n",
        "for tag in set(y):\n",
        "    tag2idx[tag] = c\n",
        "    c+=1\n",
        "idx2tag = { v:k for k,v in tag2idx.items()}"
      ],
      "execution_count": 0,
      "outputs": []
    },
    {
      "cell_type": "code",
      "metadata": {
        "id": "5Cke3E9V067H",
        "colab_type": "code",
        "colab": {}
      },
      "source": [
        " data_X = [tokenizer.convert_tokens_to_ids(tokenizer.tokenize(sentence)) for sentence in X]\n",
        " data_y = [tag2idx[tag] for tag in y]"
      ],
      "execution_count": 0,
      "outputs": []
    },
    {
      "cell_type": "markdown",
      "metadata": {
        "id": "ivTAgQRX2S8u",
        "colab_type": "text"
      },
      "source": [
        "### SPLITTING OF SKEWED DATA"
      ]
    },
    {
      "cell_type": "code",
      "metadata": {
        "id": "kxB-Jbtg0UNJ",
        "colab_type": "code",
        "outputId": "bf1dce8f-0ae8-4916-90df-694e5bf4c840",
        "colab": {
          "base_uri": "https://localhost:8080/",
          "height": 34
        }
      },
      "source": [
        "skf = StratifiedShuffleSplit(n_splits=2,test_size=0.2)\n",
        "skf.get_n_splits(data_X,data_y )"
      ],
      "execution_count": 31,
      "outputs": [
        {
          "output_type": "execute_result",
          "data": {
            "text/plain": [
              "2"
            ]
          },
          "metadata": {
            "tags": []
          },
          "execution_count": 31
        }
      ]
    },
    {
      "cell_type": "code",
      "metadata": {
        "id": "RB4gxxVx3FVj",
        "colab_type": "code",
        "colab": {}
      },
      "source": [
        "X_array = np.array(data_X)\n",
        "y_array = np.array(data_y)"
      ],
      "execution_count": 0,
      "outputs": []
    },
    {
      "cell_type": "code",
      "metadata": {
        "id": "Diw89S9N2urE",
        "colab_type": "code",
        "outputId": "8fd58d8f-cda9-4c9a-e77e-dbdfc8b5aad4",
        "colab": {
          "base_uri": "https://localhost:8080/",
          "height": 50
        }
      },
      "source": [
        "for train_index,test_index in skf.split(data_X,data_y):   ## Splitting into train and test_set\n",
        "  print(\"TRAIN:\", train_index, \"TEST:\", test_index)\n",
        "  #print(len(train_index))\n",
        "  X_train,X_test = X_array[train_index], X_array[test_index]\n",
        "  y_train,y_test = y_array[train_index], y_array[test_index]\n"
      ],
      "execution_count": 33,
      "outputs": [
        {
          "output_type": "stream",
          "text": [
            "TRAIN: [ 25554 117917  74331 ... 137691  59444  67457] TEST: [ 89923 184310  43149 ...  79045 103158  10760]\n",
            "TRAIN: [ 16294  56962  80183 ... 116962  17369  65464] TEST: [163509 130570  84725 ...  67981 129595  50104]\n"
          ],
          "name": "stdout"
        }
      ]
    },
    {
      "cell_type": "markdown",
      "metadata": {
        "id": "7LsRCXOFfGjZ",
        "colab_type": "text"
      },
      "source": [
        "###### PADDING the entire data and truncating to length 20"
      ]
    },
    {
      "cell_type": "code",
      "metadata": {
        "id": "grGhw6SC29t-",
        "colab_type": "code",
        "colab": {}
      },
      "source": [
        "X_train =tf.keras.preprocessing.sequence.pad_sequences(\n",
        "    X_train, maxlen=20, dtype='int32', padding='pre', truncating='pre',\n",
        "    value=0.0\n",
        ")\n",
        "X_test =tf.keras.preprocessing.sequence.pad_sequences(\n",
        "    X_test, maxlen=20, dtype='int32', padding='pre', truncating='pre',\n",
        "    value=0.0\n",
        ")"
      ],
      "execution_count": 0,
      "outputs": []
    },
    {
      "cell_type": "code",
      "metadata": {
        "id": "XKsE4f_PMFr4",
        "colab_type": "code",
        "outputId": "cb19f93e-a875-4c17-fbb2-11c2cdb143fb",
        "colab": {
          "base_uri": "https://localhost:8080/",
          "height": 50
        }
      },
      "source": [
        "print(X_train.shape)\n",
        "print(X_test.shape)"
      ],
      "execution_count": 35,
      "outputs": [
        {
          "output_type": "stream",
          "text": [
            "(157112, 20)\n",
            "(39278, 20)\n"
          ],
          "name": "stdout"
        }
      ]
    },
    {
      "cell_type": "code",
      "metadata": {
        "id": "Ub0X9ML74hBA",
        "colab_type": "code",
        "outputId": "f6bcda2f-b422-4b74-8525-64ee8019a5be",
        "colab": {
          "base_uri": "https://localhost:8080/",
          "height": 50
        }
      },
      "source": [
        "from sklearn.model_selection import train_test_split  ### Splitting into test and cross_validation set\n",
        "X_val, X_test, y_val, y_test = train_test_split(\n",
        "     X_test, y_test, test_size=0.5, random_state=42)\n",
        "print(X_val.shape)\n",
        "print(X_test.shape)"
      ],
      "execution_count": 36,
      "outputs": [
        {
          "output_type": "stream",
          "text": [
            "(19639, 20)\n",
            "(19639, 20)\n"
          ],
          "name": "stdout"
        }
      ]
    },
    {
      "cell_type": "code",
      "metadata": {
        "id": "Gx07j97qOh1C",
        "colab_type": "code",
        "outputId": "f361b442-b1e6-40f3-8e20-df6aaea6cc39",
        "colab": {
          "base_uri": "https://localhost:8080/",
          "height": 708
        }
      },
      "source": [
        "df = pd.DataFrame(y_test,columns=['targets'])             \n",
        "index = pd.DataFrame(df.targets.value_counts().index)\n",
        "counts = pd.DataFrame(df.targets.value_counts().values)\n",
        "concat_df = pd.concat([index,counts],axis=1)\n",
        "concat_df.columns =['tag','count']\n",
        "# concat_df.head(2)\n",
        "labels = [idx2tag[idx] for idx in index]\n",
        "def get_names(x):\n",
        "  return idx2tag[x]\n",
        "concat_df['tag_name'] = concat_df.tag.apply(get_names)\n",
        "plt.figure(figsize=(25,12))\n",
        "sns.set(font_scale=0.5)\n",
        "sns.barplot(x=\"tag_name\",y=\"count\",data=concat_df)       ### Distribution of classes in Training set"
      ],
      "execution_count": 40,
      "outputs": [
        {
          "output_type": "execute_result",
          "data": {
            "text/plain": [
              "<matplotlib.axes._subplots.AxesSubplot at 0x7f970905c588>"
            ]
          },
          "metadata": {
            "tags": []
          },
          "execution_count": 40
        },
        {
          "output_type": "display_data",
          "data": {
            "image/png": "[encoded data removed]",
            "text/plain": [
              "<Figure size 1800x864 with 1 Axes>"
            ]
          },
          "metadata": {
            "tags": []
          }
        }
      ]
    },
    {
      "cell_type": "markdown",
      "metadata": {
        "id": "L5vO2mS6cHKA",
        "colab_type": "text"
      },
      "source": [
        "### MODEL "
      ]
    },
    {
      "cell_type": "code",
      "metadata": {
        "id": "KBgJIFOoWJg6",
        "colab_type": "code",
        "colab": {}
      },
      "source": [
        "V = len(tokenizer.vocab)\n",
        "model = tf.keras.Sequential([\n",
        "    \n",
        "    tf.keras.layers.Embedding(V, 64),\n",
        "    tf.keras.layers.Dropout(0.5),\n",
        "    tf.keras.layers.Bidirectional(tf.keras.layers.LSTM(128)),\n",
        "    tf.keras.layers.Dropout(0.5),\n",
        "    tf.keras.layers.Dense(128, activation='relu'),\n",
        "    tf.keras.layers.Dense(41, activation='softmax')\n",
        "])\n"
      ],
      "execution_count": 0,
      "outputs": []
    },
    {
      "cell_type": "markdown",
      "metadata": {
        "id": "zXEaTmlWcdLk",
        "colab_type": "text"
      },
      "source": [
        "#### Checkpoints"
      ]
    },
    {
      "cell_type": "code",
      "metadata": {
        "id": "_8oEnAsscVAY",
        "colab_type": "code",
        "colab": {
          "base_uri": "https://localhost:8080/",
          "height": 34
        },
        "outputId": "a0d163d5-3011-45ac-9790-1a00bd91d568"
      },
      "source": [
        "checkpoint_directory = \"/content/drive/My Drive/NewsClassifier/LSTM/ckpts\"\n",
        "checkpoint = tf.train.Checkpoint(model=model) \n",
        "manager = tf.train.CheckpointManager(checkpoint,checkpoint_directory,max_to_keep=1)\n",
        "if manager.latest_checkpoint:\n",
        "  checkpoint.restore(manager.latest_checkpoint) #Restores this Checkpoint and any objects it depends on.\n",
        "  print(\"Latest Checkpoint restored!! \") "
      ],
      "execution_count": 42,
      "outputs": [
        {
          "output_type": "stream",
          "text": [
            "Latest Checkpoint restored!! \n"
          ],
          "name": "stdout"
        }
      ]
    },
    {
      "cell_type": "markdown",
      "metadata": {
        "id": "uLkJ1yPde8q8",
        "colab_type": "text"
      },
      "source": [
        "### Train"
      ]
    },
    {
      "cell_type": "code",
      "metadata": {
        "id": "6SzVDQq2cgLv",
        "colab_type": "code",
        "outputId": "67ead695-e4b0-4ff6-ab73-80a0e5796cdb",
        "colab": {
          "base_uri": "https://localhost:8080/",
          "height": 370
        }
      },
      "source": [
        "model.compile(loss='sparse_categorical_crossentropy', optimizer='adam', metrics=['sparse_categorical_accuracy'])\n",
        "num_epochs = 10\n",
        "history = model.fit(X_train,y_train, epochs=num_epochs, verbose=2,batch_size=32,validation_data=(X_val,y_val))\n",
        "manager.save()"
      ],
      "execution_count": 43,
      "outputs": [
        {
          "output_type": "stream",
          "text": [
            "Epoch 1/10\n",
            "4910/4910 - 96s - loss: 1.8145 - sparse_categorical_accuracy: 0.5325 - val_loss: 1.4225 - val_sparse_categorical_accuracy: 0.6140\n",
            "Epoch 2/10\n",
            "4910/4910 - 94s - loss: 1.4851 - sparse_categorical_accuracy: 0.5973 - val_loss: 1.4014 - val_sparse_categorical_accuracy: 0.6147\n",
            "Epoch 3/10\n",
            "4910/4910 - 92s - loss: 1.3798 - sparse_categorical_accuracy: 0.6204 - val_loss: 1.4118 - val_sparse_categorical_accuracy: 0.6156\n",
            "Epoch 4/10\n",
            "4910/4910 - 92s - loss: 1.3072 - sparse_categorical_accuracy: 0.6371 - val_loss: 1.4342 - val_sparse_categorical_accuracy: 0.6120\n",
            "Epoch 5/10\n",
            "4910/4910 - 93s - loss: 1.2512 - sparse_categorical_accuracy: 0.6511 - val_loss: 1.4480 - val_sparse_categorical_accuracy: 0.6120\n",
            "Epoch 6/10\n",
            "4910/4910 - 91s - loss: 1.2044 - sparse_categorical_accuracy: 0.6617 - val_loss: 1.4619 - val_sparse_categorical_accuracy: 0.6089\n",
            "Epoch 7/10\n",
            "4910/4910 - 93s - loss: 1.1693 - sparse_categorical_accuracy: 0.6687 - val_loss: 1.4892 - val_sparse_categorical_accuracy: 0.6078\n",
            "Epoch 8/10\n",
            "4910/4910 - 94s - loss: 1.1330 - sparse_categorical_accuracy: 0.6778 - val_loss: 1.5125 - val_sparse_categorical_accuracy: 0.6034\n",
            "Epoch 9/10\n",
            "4910/4910 - 90s - loss: 1.1027 - sparse_categorical_accuracy: 0.6860 - val_loss: 1.5323 - val_sparse_categorical_accuracy: 0.6037\n",
            "Epoch 10/10\n",
            "4910/4910 - 92s - loss: 1.0781 - sparse_categorical_accuracy: 0.6898 - val_loss: 1.5563 - val_sparse_categorical_accuracy: 0.6006\n"
          ],
          "name": "stdout"
        },
        {
          "output_type": "execute_result",
          "data": {
            "text/plain": [
              "'/content/drive/My Drive/NewsClassifier/LSTM/ckpts/ckpt-2'"
            ]
          },
          "metadata": {
            "tags": []
          },
          "execution_count": 43
        }
      ]
    },
    {
      "cell_type": "code",
      "metadata": {
        "id": "o1pgHMk0guhE",
        "colab_type": "code",
        "outputId": "1efa475e-408b-4ca3-972e-9e800bccdfaf",
        "colab": {
          "base_uri": "https://localhost:8080/",
          "height": 280
        }
      },
      "source": [
        "plt.plot(history.history['loss'])\n",
        "plt.plot(history.history['val_loss'])"
      ],
      "execution_count": 44,
      "outputs": [
        {
          "output_type": "execute_result",
          "data": {
            "text/plain": [
              "[<matplotlib.lines.Line2D at 0x7f9708e69e10>]"
            ]
          },
          "metadata": {
            "tags": []
          },
          "execution_count": 44
        },
        {
          "output_type": "display_data",
          "data": {
            "image/png": "[encoded data removed]",
            "text/plain": [
              "<Figure size 432x288 with 1 Axes>"
            ]
          },
          "metadata": {
            "tags": []
          }
        }
      ]
    },
    {
      "cell_type": "code",
      "metadata": {
        "id": "arfVXqFSgydq",
        "colab_type": "code",
        "outputId": "e2975eea-a13d-475c-9b1b-375fb72b19c6",
        "colab": {
          "base_uri": "https://localhost:8080/",
          "height": 280
        }
      },
      "source": [
        "plt.plot(history.history['sparse_categorical_accuracy'])\n",
        "plt.plot(history.history['val_sparse_categorical_accuracy'])"
      ],
      "execution_count": 45,
      "outputs": [
        {
          "output_type": "execute_result",
          "data": {
            "text/plain": [
              "[<matplotlib.lines.Line2D at 0x7f97064acf60>]"
            ]
          },
          "metadata": {
            "tags": []
          },
          "execution_count": 45
        },
        {
          "output_type": "display_data",
          "data": {
            "image/png": "[encoded data removed]",
            "text/plain": [
              "<Figure size 432x288 with 1 Axes>"
            ]
          },
          "metadata": {
            "tags": []
          }
        }
      ]
    },
    {
      "cell_type": "code",
      "metadata": {
        "id": "LpKm5EFrcyJt",
        "colab_type": "code",
        "outputId": "38270fc0-64a1-4184-c535-c6296852d169",
        "colab": {
          "base_uri": "https://localhost:8080/",
          "height": 50
        }
      },
      "source": [
        "results = model.evaluate(X_test,y_test)\n",
        "print(results)"
      ],
      "execution_count": 46,
      "outputs": [
        {
          "output_type": "stream",
          "text": [
            "614/614 [==============================] - 2s 3ms/step - loss: 1.5624 - sparse_categorical_accuracy: 0.5941\n",
            "[1.562388300895691, 0.5940729975700378]\n"
          ],
          "name": "stdout"
        }
      ]
    },
    {
      "cell_type": "code",
      "metadata": {
        "id": "2TujwCXkdq1p",
        "colab_type": "code",
        "colab": {}
      },
      "source": [
        ""
      ],
      "execution_count": 0,
      "outputs": []
    }
  ]
}
