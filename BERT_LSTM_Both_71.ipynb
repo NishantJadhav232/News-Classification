{
  "nbformat": 4,
  "nbformat_minor": 0,
  "metadata": {
    "colab": {
      "name": "BERT_LSTM_71.ipynb",
      "provenance": [],
      "collapsed_sections": []
    },
    "kernelspec": {
      "name": "python3",
      "display_name": "Python 3"
    },
    "accelerator": "GPU"
  },
  "cells": [
    {
      "cell_type": "code",
      "metadata": {
        "id": "SwIwFIevzqIE",
        "colab_type": "code",
        "colab": {
          "base_uri": "https://localhost:8080/",
          "height": 470
        },
        "outputId": "530f97e6-0e0a-493a-8ffe-417f7a84c706"
      },
      "source": [
        "!pip install bert-for-tf2\n",
        "!pip install sentencepiece"
      ],
      "execution_count": 4,
      "outputs": [
        {
          "output_type": "stream",
          "text": [
            "Collecting bert-for-tf2\n",
            "\u001b[?25l  Downloading https://files.pythonhosted.org/packages/35/5c/6439134ecd17b33fe0396fb0b7d6ce3c5a120c42a4516ba0e9a2d6e43b25/bert-for-tf2-0.14.4.tar.gz (40kB)\n",
            "\r\u001b[K     |████████                        | 10kB 22.3MB/s eta 0:00:01\r\u001b[K     |████████████████▏               | 20kB 6.1MB/s eta 0:00:01\r\u001b[K     |████████████████████████▎       | 30kB 7.4MB/s eta 0:00:01\r\u001b[K     |████████████████████████████████| 40kB 3.6MB/s \n",
            "\u001b[?25hCollecting py-params>=0.9.6\n",
            "  Downloading https://files.pythonhosted.org/packages/a4/bf/c1c70d5315a8677310ea10a41cfc41c5970d9b37c31f9c90d4ab98021fd1/py-params-0.9.7.tar.gz\n",
            "Collecting params-flow>=0.8.0\n",
            "  Downloading https://files.pythonhosted.org/packages/a9/95/ff49f5ebd501f142a6f0aaf42bcfd1c192dc54909d1d9eb84ab031d46056/params-flow-0.8.2.tar.gz\n",
            "Requirement already satisfied: numpy in /usr/local/lib/python3.6/dist-packages (from params-flow>=0.8.0->bert-for-tf2) (1.18.4)\n",
            "Requirement already satisfied: tqdm in /usr/local/lib/python3.6/dist-packages (from params-flow>=0.8.0->bert-for-tf2) (4.41.1)\n",
            "Building wheels for collected packages: bert-for-tf2, py-params, params-flow\n",
            "  Building wheel for bert-for-tf2 (setup.py) ... \u001b[?25l\u001b[?25hdone\n",
            "  Created wheel for bert-for-tf2: filename=bert_for_tf2-0.14.4-cp36-none-any.whl size=30114 sha256=d686940ebf5a55d5ca4ee1a5909f80195243b6be7723bac2935fba13628cb7d6\n",
            "  Stored in directory: /root/.cache/pip/wheels/cf/3f/4d/79d7735015a5f523648df90d871ce8e89a7df8185f7703eeab\n",
            "  Building wheel for py-params (setup.py) ... \u001b[?25l\u001b[?25hdone\n",
            "  Created wheel for py-params: filename=py_params-0.9.7-cp36-none-any.whl size=7302 sha256=37797436b9a41ddabff30e34af79d78773e5c3680012905321aa8863315c1aa9\n",
            "  Stored in directory: /root/.cache/pip/wheels/67/f5/19/b461849a50aefdf4bab47c4756596e82ee2118b8278e5a1980\n",
            "  Building wheel for params-flow (setup.py) ... \u001b[?25l\u001b[?25hdone\n",
            "  Created wheel for params-flow: filename=params_flow-0.8.2-cp36-none-any.whl size=19473 sha256=983f66e40e42c5e092e746f88905110d7f522c7c44b09c3b67f4ceb864cdf4f8\n",
            "  Stored in directory: /root/.cache/pip/wheels/08/c8/7f/81c86b9ff2b86e2c477e3914175be03e679e596067dc630c06\n",
            "Successfully built bert-for-tf2 py-params params-flow\n",
            "Installing collected packages: py-params, params-flow, bert-for-tf2\n",
            "Successfully installed bert-for-tf2-0.14.4 params-flow-0.8.2 py-params-0.9.7\n",
            "Collecting sentencepiece\n",
            "\u001b[?25l  Downloading https://files.pythonhosted.org/packages/d4/a4/d0a884c4300004a78cca907a6ff9a5e9fe4f090f5d95ab341c53d28cbc58/sentencepiece-0.1.91-cp36-cp36m-manylinux1_x86_64.whl (1.1MB)\n",
            "\u001b[K     |████████████████████████████████| 1.1MB 8.3MB/s \n",
            "\u001b[?25hInstalling collected packages: sentencepiece\n",
            "Successfully installed sentencepiece-0.1.91\n"
          ],
          "name": "stdout"
        }
      ]
    },
    {
      "cell_type": "markdown",
      "metadata": {
        "id": "y6gzneyo03Xh",
        "colab_type": "text"
      },
      "source": [
        "### IMPORT"
      ]
    },
    {
      "cell_type": "code",
      "metadata": {
        "id": "0kUZekBKyrq6",
        "colab_type": "code",
        "colab": {}
      },
      "source": [
        "import pandas as pd\n",
        "import numpy as np\n",
        "try:\n",
        "  %tensorflow_version 2.x\n",
        "except:\n",
        "  pass\n",
        "import tensorflow as tf\n",
        "from google.colab import drive\n",
        "import tensorflow_hub as hub\n",
        "\n",
        "from tensorflow.keras import layers\n",
        "import bert\n",
        "import random\n",
        "import math\n",
        "from sklearn.model_selection import StratifiedShuffleSplit\n",
        "from sklearn.metrics import accuracy_score\n",
        "from tensorflow.keras.preprocessing.text import Tokenizer\n",
        "from tensorflow.keras.preprocessing.sequence import pad_sequences\n",
        "from tensorflow.keras.layers import Dense, Input, GlobalMaxPooling1D\n",
        "from tensorflow.keras.layers import LSTM, Embedding\n",
        "from tensorflow.keras.models import Model\n",
        "import pickle"
      ],
      "execution_count": 0,
      "outputs": []
    },
    {
      "cell_type": "code",
      "metadata": {
        "id": "aveFrldw1IDt",
        "colab_type": "code",
        "colab": {
          "base_uri": "https://localhost:8080/",
          "height": 121
        },
        "outputId": "8958e5c9-2331-4a3a-9b6c-ccbb1887f0b8"
      },
      "source": [
        "drive.mount('/content/drive')"
      ],
      "execution_count": 6,
      "outputs": [
        {
          "output_type": "stream",
          "text": [
            "Go to this URL in a browser: https://accounts.google.com/o/oauth2/auth?client_id=947318989803-6bn6qk8qdgf4n4g3pfee6491hc0brc4i.apps.googleusercontent.com&redirect_uri=urn%3aietf%3awg%3aoauth%3a2.0%3aoob&response_type=code&scope=email%20https%3a%2f%2fwww.googleapis.com%2fauth%2fdocs.test%20https%3a%2f%2fwww.googleapis.com%2fauth%2fdrive%20https%3a%2f%2fwww.googleapis.com%2fauth%2fdrive.photos.readonly%20https%3a%2f%2fwww.googleapis.com%2fauth%2fpeopleapi.readonly\n",
            "\n",
            "Enter your authorization code:\n",
            "··········\n",
            "Mounted at /content/drive\n"
          ],
          "name": "stdout"
        }
      ]
    },
    {
      "cell_type": "code",
      "metadata": {
        "id": "oQ460zUz1ScH",
        "colab_type": "code",
        "colab": {}
      },
      "source": [
        "X,y =pickle.load(open('/content/drive/My Drive/NewsClassifier/final_dataset','rb'))"
      ],
      "execution_count": 0,
      "outputs": []
    },
    {
      "cell_type": "markdown",
      "metadata": {
        "id": "5GRYzrLl1XWG",
        "colab_type": "text"
      },
      "source": [
        "#### USING BERT TOKENIZER"
      ]
    },
    {
      "cell_type": "code",
      "metadata": {
        "id": "hn1hemXL0rpY",
        "colab_type": "code",
        "colab": {}
      },
      "source": [
        "BertTokenizer = bert.bert_tokenization.FullTokenizer\n",
        "bert_layer = hub.KerasLayer(\"https://tfhub.dev/tensorflow/bert_en_uncased_L-12_H-768_A-12/1\",\n",
        "                            trainable=False)\n",
        "vocabulary_file = bert_layer.resolved_object.vocab_file.asset_path.numpy()\n",
        "to_lower_case = bert_layer.resolved_object.do_lower_case.numpy()\n",
        "tokenizer = BertTokenizer(vocabulary_file, to_lower_case)"
      ],
      "execution_count": 0,
      "outputs": []
    },
    {
      "cell_type": "code",
      "metadata": {
        "id": "eSRBYOYz0Rdj",
        "colab_type": "code",
        "colab": {}
      },
      "source": [
        "tag2idx ={}\n",
        "c=0\n",
        "for tag in set(y):\n",
        "    tag2idx[tag] = c\n",
        "    c+=1\n",
        "idx2tag = { v:k for k,v in tag2idx.items()}"
      ],
      "execution_count": 0,
      "outputs": []
    },
    {
      "cell_type": "code",
      "metadata": {
        "id": "5Cke3E9V067H",
        "colab_type": "code",
        "colab": {}
      },
      "source": [
        " data_X = [tokenizer.convert_tokens_to_ids(tokenizer.tokenize(sentence)) for sentence in X]\n",
        " data_y = [tag2idx[tag] for tag in y]"
      ],
      "execution_count": 0,
      "outputs": []
    },
    {
      "cell_type": "markdown",
      "metadata": {
        "id": "ivTAgQRX2S8u",
        "colab_type": "text"
      },
      "source": [
        "### SPLITTING OF SKEWED DATA"
      ]
    },
    {
      "cell_type": "code",
      "metadata": {
        "id": "kxB-Jbtg0UNJ",
        "colab_type": "code",
        "colab": {
          "base_uri": "https://localhost:8080/",
          "height": 34
        },
        "outputId": "6368124f-7026-4cc3-b5a2-41b78fb31916"
      },
      "source": [
        "skf = StratifiedShuffleSplit(n_splits=2,test_size=0.2)\n",
        "skf.get_n_splits(data_X,data_y )"
      ],
      "execution_count": 11,
      "outputs": [
        {
          "output_type": "execute_result",
          "data": {
            "text/plain": [
              "2"
            ]
          },
          "metadata": {
            "tags": []
          },
          "execution_count": 11
        }
      ]
    },
    {
      "cell_type": "code",
      "metadata": {
        "id": "RB4gxxVx3FVj",
        "colab_type": "code",
        "colab": {}
      },
      "source": [
        "X_array = np.array(data_X)\n",
        "y_array = np.array(data_y)"
      ],
      "execution_count": 0,
      "outputs": []
    },
    {
      "cell_type": "code",
      "metadata": {
        "id": "Diw89S9N2urE",
        "colab_type": "code",
        "colab": {
          "base_uri": "https://localhost:8080/",
          "height": 50
        },
        "outputId": "1e4e9de8-17d5-4504-931b-2f61c18f3f2e"
      },
      "source": [
        "for train_index,test_index in skf.split(data_X,data_y):   ## Splitting into train and test_set\n",
        "  print(\"TRAIN:\", train_index, \"TEST:\", test_index)\n",
        "  #print(len(train_index))\n",
        "  X_train,X_test = X_array[train_index], X_array[test_index]\n",
        "  y_train,y_test = y_array[train_index], y_array[test_index]\n"
      ],
      "execution_count": 13,
      "outputs": [
        {
          "output_type": "stream",
          "text": [
            "TRAIN: [148427 111337 122695 ... 146636  55805 175548] TEST: [ 57885  70815   7028 ...  36077 159925 111613]\n",
            "TRAIN: [ 40886 160034  51050 ... 126186 189531  88002] TEST: [ 10101  23968 140947 ...  61448 118803 147799]\n"
          ],
          "name": "stdout"
        }
      ]
    },
    {
      "cell_type": "markdown",
      "metadata": {
        "id": "7LsRCXOFfGjZ",
        "colab_type": "text"
      },
      "source": [
        "###### PADDING the entire data and truncating to length 20"
      ]
    },
    {
      "cell_type": "code",
      "metadata": {
        "id": "grGhw6SC29t-",
        "colab_type": "code",
        "colab": {}
      },
      "source": [
        "X_train =tf.keras.preprocessing.sequence.pad_sequences(\n",
        "    X_train, maxlen=20, dtype='int32', padding='pre', truncating='pre',\n",
        "    value=0.0\n",
        ")\n",
        "X_test =tf.keras.preprocessing.sequence.pad_sequences(\n",
        "    X_test, maxlen=20, dtype='int32', padding='pre', truncating='pre',\n",
        "    value=0.0\n",
        ")"
      ],
      "execution_count": 0,
      "outputs": []
    },
    {
      "cell_type": "code",
      "metadata": {
        "id": "XKsE4f_PMFr4",
        "colab_type": "code",
        "colab": {
          "base_uri": "https://localhost:8080/",
          "height": 50
        },
        "outputId": "55a11a82-8a5f-4a0a-cc51-43c62c0ec97e"
      },
      "source": [
        "print(X_train.shape)\n",
        "print(X_test.shape)"
      ],
      "execution_count": 16,
      "outputs": [
        {
          "output_type": "stream",
          "text": [
            "(151661, 20)\n",
            "(37916, 20)\n"
          ],
          "name": "stdout"
        }
      ]
    },
    {
      "cell_type": "code",
      "metadata": {
        "id": "Ub0X9ML74hBA",
        "colab_type": "code",
        "colab": {
          "base_uri": "https://localhost:8080/",
          "height": 50
        },
        "outputId": "737d461a-2658-4d43-f66a-612268fa4a35"
      },
      "source": [
        "from sklearn.model_selection import train_test_split  ### Splitting into test and cross_validation set\n",
        "X_val, X_test, y_val, y_test = train_test_split(\n",
        "     X_test, y_test, test_size=0.5, random_state=42)\n",
        "print(X_val.shape)\n",
        "print(X_test.shape)"
      ],
      "execution_count": 17,
      "outputs": [
        {
          "output_type": "stream",
          "text": [
            "(18958, 20)\n",
            "(18958, 20)\n"
          ],
          "name": "stdout"
        }
      ]
    },
    {
      "cell_type": "code",
      "metadata": {
        "id": "Gx07j97qOh1C",
        "colab_type": "code",
        "colab": {
          "base_uri": "https://localhost:8080/",
          "height": 694
        },
        "outputId": "4a97ae82-ada0-4dbf-e645-0e4af926562f"
      },
      "source": [
        "df = pd.DataFrame(y_test,columns=['targets'])             \n",
        "index = pd.DataFrame(df.targets.value_counts().index)\n",
        "counts = pd.DataFrame(df.targets.value_counts().values)\n",
        "concat_df = pd.concat([index,counts],axis=1)\n",
        "concat_df.columns =['tag','count']\n",
        "# concat_df.head(2)\n",
        "labels = [idx2tag[idx] for idx in index]\n",
        "def get_names(x):\n",
        "  return idx2tag[x]\n",
        "concat_df['tag_name'] = concat_df.tag.apply(get_names)\n",
        "plt.figure(figsize=(25,12))\n",
        "sns.barplot(x=\"tag_name\",y=\"count\",data=concat_df)       ### Distribution of classes in Training set\n",
        "sns.set(font_scale=0.5)"
      ],
      "execution_count": 27,
      "outputs": [
        {
          "output_type": "display_data",
          "data": {
            "image/png": "[encoded data removed]",
            "text/plain": [
              "<Figure size 1800x864 with 1 Axes>"
            ]
          },
          "metadata": {
            "tags": []
          }
        }
      ]
    },
    {
      "cell_type": "markdown",
      "metadata": {
        "id": "L5vO2mS6cHKA",
        "colab_type": "text"
      },
      "source": [
        "### MODEL "
      ]
    },
    {
      "cell_type": "code",
      "metadata": {
        "id": "KBgJIFOoWJg6",
        "colab_type": "code",
        "colab": {}
      },
      "source": [
        "V = len(tokenizer.vocab)\n",
        "model = tf.keras.Sequential([\n",
        "    \n",
        "    tf.keras.layers.Embedding(V, 64),\n",
        "    tf.keras.layers.Dropout(0.5),\n",
        "    tf.keras.layers.Bidirectional(tf.keras.layers.LSTM(128)),\n",
        "    tf.keras.layers.Dropout(0.5),\n",
        "    tf.keras.layers.Dense(128, activation='relu'),\n",
        "    tf.keras.layers.Dense(41, activation='softmax')\n",
        "])\n"
      ],
      "execution_count": 0,
      "outputs": []
    },
    {
      "cell_type": "markdown",
      "metadata": {
        "id": "zXEaTmlWcdLk",
        "colab_type": "text"
      },
      "source": [
        "#### Checkpoints"
      ]
    },
    {
      "cell_type": "code",
      "metadata": {
        "id": "_8oEnAsscVAY",
        "colab_type": "code",
        "colab": {}
      },
      "source": [
        "checkpoint_directory = \"/content/drive/My Drive/NewsClassifier/LSTM/ckpts\"\n",
        "checkpoint = tf.train.Checkpoint(model=model) \n",
        "manager = tf.train.CheckpointManager(checkpoint,checkpoint_directory,max_to_keep=1)\n",
        "if manager.latest_checkpoint:\n",
        "  checkpoint.restore(manager.latest_checkpoint) #Restores this Checkpoint and any objects it depends on.\n",
        "  print(\"Latest Checkpoint restored!! \") "
      ],
      "execution_count": 0,
      "outputs": []
    },
    {
      "cell_type": "markdown",
      "metadata": {
        "id": "uLkJ1yPde8q8",
        "colab_type": "text"
      },
      "source": [
        "### Train"
      ]
    },
    {
      "cell_type": "code",
      "metadata": {
        "id": "6SzVDQq2cgLv",
        "colab_type": "code",
        "colab": {
          "base_uri": "https://localhost:8080/",
          "height": 370
        },
        "outputId": "4933638b-ce87-49a2-e0bd-5c0c1f1e6a5f"
      },
      "source": [
        "model.compile(loss='sparse_categorical_crossentropy', optimizer='adam', metrics=['sparse_categorical_accuracy'])\n",
        "num_epochs = 10\n",
        "history = model.fit(X_train,y_train, epochs=num_epochs, verbose=2,batch_size=32,validation_data=(X_val,y_val))\n",
        "manager.save()"
      ],
      "execution_count": 55,
      "outputs": [
        {
          "output_type": "stream",
          "text": [
            "Epoch 1/10\n",
            "4740/4740 - 95s - loss: 0.9238 - sparse_categorical_accuracy: 0.7417 - val_loss: 1.1166 - val_sparse_categorical_accuracy: 0.7051\n",
            "Epoch 2/10\n",
            "4740/4740 - 93s - loss: 0.8699 - sparse_categorical_accuracy: 0.7542 - val_loss: 1.0931 - val_sparse_categorical_accuracy: 0.7115\n",
            "Epoch 3/10\n",
            "4740/4740 - 95s - loss: 0.8144 - sparse_categorical_accuracy: 0.7676 - val_loss: 1.0884 - val_sparse_categorical_accuracy: 0.7146\n",
            "Epoch 4/10\n",
            "4740/4740 - 93s - loss: 0.7752 - sparse_categorical_accuracy: 0.7790 - val_loss: 1.0977 - val_sparse_categorical_accuracy: 0.7152\n",
            "Epoch 5/10\n",
            "4740/4740 - 93s - loss: 0.7435 - sparse_categorical_accuracy: 0.7861 - val_loss: 1.1094 - val_sparse_categorical_accuracy: 0.7130\n",
            "Epoch 6/10\n",
            "4740/4740 - 92s - loss: 0.7140 - sparse_categorical_accuracy: 0.7939 - val_loss: 1.1149 - val_sparse_categorical_accuracy: 0.7157\n",
            "Epoch 7/10\n",
            "4740/4740 - 94s - loss: 0.6869 - sparse_categorical_accuracy: 0.8014 - val_loss: 1.1282 - val_sparse_categorical_accuracy: 0.7150\n",
            "Epoch 8/10\n",
            "4740/4740 - 92s - loss: 0.6627 - sparse_categorical_accuracy: 0.8076 - val_loss: 1.1271 - val_sparse_categorical_accuracy: 0.7197\n",
            "Epoch 9/10\n",
            "4740/4740 - 93s - loss: 0.6438 - sparse_categorical_accuracy: 0.8122 - val_loss: 1.1582 - val_sparse_categorical_accuracy: 0.7147\n",
            "Epoch 10/10\n",
            "4740/4740 - 92s - loss: 0.6236 - sparse_categorical_accuracy: 0.8178 - val_loss: 1.1616 - val_sparse_categorical_accuracy: 0.7177\n"
          ],
          "name": "stdout"
        },
        {
          "output_type": "execute_result",
          "data": {
            "text/plain": [
              "'/content/drive/My Drive/NewsClassifier/LSTM/ckpts/ckpt-1'"
            ]
          },
          "metadata": {
            "tags": []
          },
          "execution_count": 55
        }
      ]
    },
    {
      "cell_type": "code",
      "metadata": {
        "id": "o1pgHMk0guhE",
        "colab_type": "code",
        "outputId": "7edf066d-1ef9-4119-d011-7cdde9746cf5",
        "colab": {
          "base_uri": "https://localhost:8080/",
          "height": 280
        }
      },
      "source": [
        "plt.plot(history.history['loss'])\n",
        "plt.plot(history.history['val_loss'])"
      ],
      "execution_count": 56,
      "outputs": [
        {
          "output_type": "execute_result",
          "data": {
            "text/plain": [
              "[<matplotlib.lines.Line2D at 0x7f05d8de0080>]"
            ]
          },
          "metadata": {
            "tags": []
          },
          "execution_count": 56
        },
        {
          "output_type": "display_data",
          "data": {
            "image/png": "[encoded data removed]",
            "text/plain": [
              "<Figure size 432x288 with 1 Axes>"
            ]
          },
          "metadata": {
            "tags": []
          }
        }
      ]
    },
    {
      "cell_type": "code",
      "metadata": {
        "id": "arfVXqFSgydq",
        "colab_type": "code",
        "colab": {
          "base_uri": "https://localhost:8080/",
          "height": 280
        },
        "outputId": "072f3dd1-8c11-49fa-b960-791ac0d1bb09"
      },
      "source": [
        "plt.plot(history.history['sparse_categorical_accuracy'])\n",
        "plt.plot(history.history['val_sparse_categorical_accuracy'])"
      ],
      "execution_count": 57,
      "outputs": [
        {
          "output_type": "execute_result",
          "data": {
            "text/plain": [
              "[<matplotlib.lines.Line2D at 0x7f057365b588>]"
            ]
          },
          "metadata": {
            "tags": []
          },
          "execution_count": 57
        },
        {
          "output_type": "display_data",
          "data": {
            "image/png": "[encoded data removed]",
            "text/plain": [
              "<Figure size 432x288 with 1 Axes>"
            ]
          },
          "metadata": {
            "tags": []
          }
        }
      ]
    },
    {
      "cell_type": "code",
      "metadata": {
        "id": "LpKm5EFrcyJt",
        "colab_type": "code",
        "colab": {
          "base_uri": "https://localhost:8080/",
          "height": 50
        },
        "outputId": "39e402e1-9d75-4c7a-ccbd-912e49375846"
      },
      "source": [
        "results = model.evaluate(X_test,y_test)\n",
        "print(results)"
      ],
      "execution_count": 58,
      "outputs": [
        {
          "output_type": "stream",
          "text": [
            "593/593 [==============================] - 2s 3ms/step - loss: 1.1714 - sparse_categorical_accuracy: 0.7130\n",
            "[1.1714282035827637, 0.7129971385002136]\n"
          ],
          "name": "stdout"
        }
      ]
    },
    {
      "cell_type": "code",
      "metadata": {
        "id": "2TujwCXkdq1p",
        "colab_type": "code",
        "colab": {}
      },
      "source": [
        ""
      ],
      "execution_count": 0,
      "outputs": []
    }
  ]
}