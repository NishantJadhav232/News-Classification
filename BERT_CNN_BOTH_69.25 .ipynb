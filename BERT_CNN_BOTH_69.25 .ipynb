{
  "nbformat": 4,
  "nbformat_minor": 0,
  "metadata": {
    "colab": {
      "name": "BERT_CNN_BOTH.ipynb",
      "provenance": [],
      "collapsed_sections": []
    },
    "kernelspec": {
      "name": "python3",
      "display_name": "Python 3"
    },
    "accelerator": "GPU"
  },
  "cells": [
    {
      "cell_type": "code",
      "metadata": {
        "id": "SwIwFIevzqIE",
        "colab_type": "code",
        "colab": {}
      },
      "source": [
        "!pip install bert-for-tf2\n",
        "!pip install sentencepiece"
      ],
      "execution_count": 0,
      "outputs": []
    },
    {
      "cell_type": "markdown",
      "metadata": {
        "id": "y6gzneyo03Xh",
        "colab_type": "text"
      },
      "source": [
        "### IMPORT"
      ]
    },
    {
      "cell_type": "code",
      "metadata": {
        "id": "0kUZekBKyrq6",
        "colab_type": "code",
        "colab": {}
      },
      "source": [
        "import pandas as pd\n",
        "import numpy as np\n",
        "try:\n",
        "  %tensorflow_version 2.x\n",
        "except:\n",
        "  pass\n",
        "import tensorflow as tf\n",
        "from google.colab import drive\n",
        "import tensorflow_hub as hub\n",
        "import re\n",
        "from tensorflow.keras import layers\n",
        "import bert\n",
        "import random\n",
        "import math\n",
        "from sklearn.model_selection import StratifiedShuffleSplit\n",
        "from sklearn.metrics import accuracy_score\n",
        "from tensorflow.keras.preprocessing.text import Tokenizer\n",
        "from tensorflow.keras.preprocessing.sequence import pad_sequences\n",
        "from tensorflow.keras.layers import Dense, Input, GlobalMaxPooling1D\n",
        "from tensorflow.keras.layers import LSTM, Embedding\n",
        "from tensorflow.keras.models import Model\n",
        "import pickle\n",
        "import nltk\n",
        "import seaborn as sns\n",
        "import matplotlib.pyplot as plt\n",
        "%matplotlib inline\n",
        "nltk.download('stopwords')\n",
        "nltk.download('words')\n",
        "from nltk.corpus import stopwords\n",
        "from livelossplot.tf_keras import PlotLossesCallback"
      ],
      "execution_count": 0,
      "outputs": []
    },
    {
      "cell_type": "code",
      "metadata": {
        "id": "aveFrldw1IDt",
        "colab_type": "code",
        "outputId": "a5ea20e3-2674-4583-d0fb-638549997e58",
        "colab": {
          "base_uri": "https://localhost:8080/",
          "height": 121
        }
      },
      "source": [
        "drive.mount('/content/drive')"
      ],
      "execution_count": 3,
      "outputs": [
        {
          "output_type": "stream",
          "text": [
            "Go to this URL in a browser: https://accounts.google.com/o/oauth2/auth?client_id=947318989803-6bn6qk8qdgf4n4g3pfee6491hc0brc4i.apps.googleusercontent.com&redirect_uri=urn%3aietf%3awg%3aoauth%3a2.0%3aoob&response_type=code&scope=email%20https%3a%2f%2fwww.googleapis.com%2fauth%2fdocs.test%20https%3a%2f%2fwww.googleapis.com%2fauth%2fdrive%20https%3a%2f%2fwww.googleapis.com%2fauth%2fdrive.photos.readonly%20https%3a%2f%2fwww.googleapis.com%2fauth%2fpeopleapi.readonly\n",
            "\n",
            "Enter your authorization code:\n",
            "··········\n",
            "Mounted at /content/drive\n"
          ],
          "name": "stdout"
        }
      ]
    },
    {
      "cell_type": "code",
      "metadata": {
        "id": "oQ460zUz1ScH",
        "colab_type": "code",
        "colab": {}
      },
      "source": [
        "X,y =pickle.load(open('/content/drive/My Drive/NewsClassifier/final_dataset','rb'))"
      ],
      "execution_count": 0,
      "outputs": []
    },
    {
      "cell_type": "markdown",
      "metadata": {
        "id": "5GRYzrLl1XWG",
        "colab_type": "text"
      },
      "source": [
        "#### USING BERT TOKENIZER"
      ]
    },
    {
      "cell_type": "code",
      "metadata": {
        "id": "hn1hemXL0rpY",
        "colab_type": "code",
        "colab": {}
      },
      "source": [
        "BertTokenizer = bert.bert_tokenization.FullTokenizer\n",
        "bert_layer = hub.KerasLayer(\"https://tfhub.dev/tensorflow/bert_en_uncased_L-12_H-768_A-12/1\",\n",
        "                            trainable=False)\n",
        "vocabulary_file = bert_layer.resolved_object.vocab_file.asset_path.numpy()\n",
        "to_lower_case = bert_layer.resolved_object.do_lower_case.numpy()\n",
        "tokenizer = BertTokenizer(vocabulary_file, to_lower_case)"
      ],
      "execution_count": 0,
      "outputs": []
    },
    {
      "cell_type": "code",
      "metadata": {
        "id": "eSRBYOYz0Rdj",
        "colab_type": "code",
        "colab": {}
      },
      "source": [
        "tag2idx ={}\n",
        "c=0\n",
        "for tag in set(y):\n",
        "    tag2idx[tag] = c\n",
        "    c+=1\n",
        "idx2tag = { v:k for k,v in tag2idx.items()}"
      ],
      "execution_count": 0,
      "outputs": []
    },
    {
      "cell_type": "code",
      "metadata": {
        "id": "5Cke3E9V067H",
        "colab_type": "code",
        "colab": {}
      },
      "source": [
        " data_X = [tokenizer.convert_tokens_to_ids(tokenizer.tokenize(sentence)) for sentence in X]\n",
        " data_y = [tag2idx[tag] for tag in y]"
      ],
      "execution_count": 0,
      "outputs": []
    },
    {
      "cell_type": "markdown",
      "metadata": {
        "id": "ivTAgQRX2S8u",
        "colab_type": "text"
      },
      "source": [
        "### SPLITTING OF SKEWED DATA"
      ]
    },
    {
      "cell_type": "code",
      "metadata": {
        "id": "kxB-Jbtg0UNJ",
        "colab_type": "code",
        "outputId": "a36a2878-aaf8-4ccd-ecaf-8154e9ae649d",
        "colab": {
          "base_uri": "https://localhost:8080/",
          "height": 34
        }
      },
      "source": [
        "skf = StratifiedShuffleSplit(n_splits=2,test_size=0.2)\n",
        "skf.get_n_splits(data_X,data_y )"
      ],
      "execution_count": 28,
      "outputs": [
        {
          "output_type": "execute_result",
          "data": {
            "text/plain": [
              "2"
            ]
          },
          "metadata": {
            "tags": []
          },
          "execution_count": 28
        }
      ]
    },
    {
      "cell_type": "code",
      "metadata": {
        "id": "RB4gxxVx3FVj",
        "colab_type": "code",
        "colab": {}
      },
      "source": [
        "X_array = np.array(data_X)\n",
        "y_array = np.array(data_y)"
      ],
      "execution_count": 0,
      "outputs": []
    },
    {
      "cell_type": "code",
      "metadata": {
        "id": "Diw89S9N2urE",
        "colab_type": "code",
        "outputId": "dd37d53b-8956-4989-d9da-d57c2aa7c025",
        "colab": {
          "base_uri": "https://localhost:8080/",
          "height": 50
        }
      },
      "source": [
        "for train_index,test_index in skf.split(data_X,data_y):   ## Splitting into train and test_set\n",
        "  print(\"TRAIN:\", train_index, \"TEST:\", test_index)\n",
        "  #print(len(train_index))\n",
        "  X_train,X_test = X_array[train_index], X_array[test_index]\n",
        "  y_train,y_test = y_array[train_index], y_array[test_index]\n"
      ],
      "execution_count": 30,
      "outputs": [
        {
          "output_type": "stream",
          "text": [
            "TRAIN: [ 13432  60915 148099 ...  63226 149323  87976] TEST: [132143  87404  16981 ...  50646 187927 130061]\n",
            "TRAIN: [ 67377 157799   4638 ... 125648  69566  89736] TEST: [111831  84321   5431 ...  30866 134261 155954]\n"
          ],
          "name": "stdout"
        }
      ]
    },
    {
      "cell_type": "markdown",
      "metadata": {
        "id": "7LsRCXOFfGjZ",
        "colab_type": "text"
      },
      "source": [
        "###### PADDING the entire data and truncating to length 20"
      ]
    },
    {
      "cell_type": "code",
      "metadata": {
        "id": "grGhw6SC29t-",
        "colab_type": "code",
        "colab": {}
      },
      "source": [
        "X_train =tf.keras.preprocessing.sequence.pad_sequences(\n",
        "    X_train, maxlen=20, dtype='int32', padding='pre', truncating='pre',\n",
        "    value=0.0\n",
        ")\n",
        "X_test =tf.keras.preprocessing.sequence.pad_sequences(\n",
        "    X_test, maxlen=20, dtype='int32', padding='pre', truncating='pre',\n",
        "    value=0.0\n",
        ")"
      ],
      "execution_count": 0,
      "outputs": []
    },
    {
      "cell_type": "code",
      "metadata": {
        "id": "XKsE4f_PMFr4",
        "colab_type": "code",
        "outputId": "ad470439-c9e6-4c79-a830-e6136771eb22",
        "colab": {
          "base_uri": "https://localhost:8080/",
          "height": 50
        }
      },
      "source": [
        "print(X_train.shape)\n",
        "print(X_test.shape)"
      ],
      "execution_count": 32,
      "outputs": [
        {
          "output_type": "stream",
          "text": [
            "(151661, 20)\n",
            "(37916, 20)\n"
          ],
          "name": "stdout"
        }
      ]
    },
    {
      "cell_type": "code",
      "metadata": {
        "id": "Ub0X9ML74hBA",
        "colab_type": "code",
        "outputId": "1e0265e8-5dfb-4219-93f2-91bca80dbf16",
        "colab": {
          "base_uri": "https://localhost:8080/",
          "height": 50
        }
      },
      "source": [
        "from sklearn.model_selection import train_test_split  ### Splitting into test and cross_validation set\n",
        "X_val, X_test, y_val, y_test = train_test_split(\n",
        "     X_test, y_test, test_size=0.5, random_state=42)\n",
        "print(X_val.shape)\n",
        "print(X_test.shape)"
      ],
      "execution_count": 33,
      "outputs": [
        {
          "output_type": "stream",
          "text": [
            "(18958, 20)\n",
            "(18958, 20)\n"
          ],
          "name": "stdout"
        }
      ]
    },
    {
      "cell_type": "code",
      "metadata": {
        "id": "Gx07j97qOh1C",
        "colab_type": "code",
        "outputId": "0764a45d-0440-4766-b043-7178cb8c883a",
        "colab": {
          "base_uri": "https://localhost:8080/",
          "height": 708
        }
      },
      "source": [
        "df = pd.DataFrame(y_test,columns=['targets'])             \n",
        "index = pd.DataFrame(df.targets.value_counts().index)\n",
        "counts = pd.DataFrame(df.targets.value_counts().values)\n",
        "concat_df = pd.concat([index,counts],axis=1)\n",
        "concat_df.columns =['tag','count']\n",
        "# concat_df.head(2)\n",
        "labels = [idx2tag[idx] for idx in index]\n",
        "def get_names(x):\n",
        "  return idx2tag[x]\n",
        "concat_df['tag_name'] = concat_df.tag.apply(get_names)\n",
        "plt.figure(figsize=(25,12))\n",
        "sns.set(font_scale=0.5)\n",
        "sns.barplot(x=\"tag_name\",y=\"count\",data=concat_df)       ### Distribution of classes in Training set"
      ],
      "execution_count": 34,
      "outputs": [
        {
          "output_type": "execute_result",
          "data": {
            "text/plain": [
              "<matplotlib.axes._subplots.AxesSubplot at 0x7f3e3d09dcf8>"
            ]
          },
          "metadata": {
            "tags": []
          },
          "execution_count": 34
        },
        {
          "output_type": "display_data",
          "data": {
            "image/png": "[encoded data removed]",
            "text/plain": [
              "<Figure size 1800x864 with 1 Axes>"
            ]
          },
          "metadata": {
            "tags": []
          }
        }
      ]
    },
    {
      "cell_type": "markdown",
      "metadata": {
        "id": "AOOhiSsLJsMw",
        "colab_type": "text"
      },
      "source": [
        "### DATASET CREATION"
      ]
    },
    {
      "cell_type": "code",
      "metadata": {
        "id": "VZBYYvH7JxZd",
        "colab_type": "code",
        "colab": {}
      },
      "source": [
        "BATCH_SIZE = 64\n",
        "BUFFER_SIZE = 20000\n",
        "\n",
        "dataset_train = tf.data.Dataset.from_tensor_slices((X_train,y_train))\n",
        "dataset_train = dataset_train.cache()\n",
        "dataset_train = dataset_train.shuffle(BUFFER_SIZE).batch(BATCH_SIZE)\n",
        "dataset_train = dataset_train.prefetch(tf.data.experimental.AUTOTUNE)"
      ],
      "execution_count": 0,
      "outputs": []
    },
    {
      "cell_type": "code",
      "metadata": {
        "id": "qVisE5-XMvsw",
        "colab_type": "code",
        "colab": {}
      },
      "source": [
        "BATCH_SIZE = 64\n",
        "BUFFER_SIZE = 20000\n",
        "\n",
        "dataset_val = tf.data.Dataset.from_tensor_slices((X_val,y_val))\n",
        "dataset_val = dataset_val.cache()\n",
        "dataset_val = dataset_val.shuffle(BUFFER_SIZE).batch(BATCH_SIZE)\n",
        "dataset_val = dataset_val.prefetch(tf.data.experimental.AUTOTUNE)"
      ],
      "execution_count": 0,
      "outputs": []
    },
    {
      "cell_type": "code",
      "metadata": {
        "id": "8lPu3JEWNIjE",
        "colab_type": "code",
        "colab": {}
      },
      "source": [
        "BATCH_SIZE = 64\n",
        "BUFFER_SIZE = 20000\n",
        "\n",
        "dataset_test = tf.data.Dataset.from_tensor_slices((X_test,y_test))\n",
        "dataset_test = dataset_test.cache()\n",
        "dataset_test = dataset_test.shuffle(BUFFER_SIZE).batch(BATCH_SIZE)\n",
        "dataset_test = dataset_test.prefetch(tf.data.experimental.AUTOTUNE)"
      ],
      "execution_count": 0,
      "outputs": []
    },
    {
      "cell_type": "markdown",
      "metadata": {
        "id": "L5vO2mS6cHKA",
        "colab_type": "text"
      },
      "source": [
        "### MODEL "
      ]
    },
    {
      "cell_type": "code",
      "metadata": {
        "id": "xLKv0F2YaMdL",
        "colab_type": "code",
        "colab": {}
      },
      "source": [
        "tf.compat.v1.reset_default_graph()"
      ],
      "execution_count": 0,
      "outputs": []
    },
    {
      "cell_type": "code",
      "metadata": {
        "id": "KBgJIFOoWJg6",
        "colab_type": "code",
        "colab": {}
      },
      "source": [
        "class TEXT_MODEL(tf.keras.Model):\n",
        "    \n",
        "    def __init__(self,\n",
        "                 vocabulary_size,\n",
        "                 embedding_dimensions=128,\n",
        "                 cnn_filters=50,\n",
        "                 dnn_units=512,\n",
        "                 model_output_classes=2,\n",
        "                 dropout_rate=0.1,\n",
        "                 training=False,\n",
        "                 name=\"text_model\"):\n",
        "        super(TEXT_MODEL, self).__init__(name=name)\n",
        "        \n",
        "        self.embedding = layers.Embedding(vocabulary_size,\n",
        "                                          embedding_dimensions)\n",
        "        self.cnn_layer1 = layers.Conv1D(filters=cnn_filters,\n",
        "                                        kernel_size=2,\n",
        "                                        padding=\"valid\",\n",
        "                                        activation=\"relu\")\n",
        "        self.cnn_layer2 = layers.Conv1D(filters=cnn_filters,\n",
        "                                        kernel_size=3,\n",
        "                                        padding=\"valid\",\n",
        "                                        activation=\"relu\")\n",
        "        self.cnn_layer3 = layers.Conv1D(filters=cnn_filters,\n",
        "                                        kernel_size=4,\n",
        "                                        padding=\"valid\",\n",
        "                                        activation=\"relu\")\n",
        "        self.pool = layers.GlobalMaxPool1D()\n",
        "        \n",
        "        self.dense_1 = layers.Dense(units=dnn_units, activation=\"relu\")\n",
        "        self.dropout = layers.Dropout(rate=dropout_rate)\n",
        "        if model_output_classes == 2:\n",
        "            self.last_dense = layers.Dense(units=1,\n",
        "                                           activation=\"sigmoid\")\n",
        "        else:\n",
        "            self.last_dense = layers.Dense(units=model_output_classes,\n",
        "                                           activation=\"softmax\")\n",
        "    \n",
        "    def call(self, inputs, training):\n",
        "        l = self.embedding(inputs)\n",
        "        l_1 = self.cnn_layer1(l) \n",
        "        l_1 = self.pool(l_1) \n",
        "        l_2 = self.cnn_layer2(l) \n",
        "        l_2 = self.pool(l_2)\n",
        "        l_3 = self.cnn_layer3(l)\n",
        "        l_3 = self.pool(l_3) \n",
        "        \n",
        "        concatenated = tf.concat([l_1, l_2, l_3], axis=-1) # (batch_size, 3 * cnn_filters)\n",
        "        concatenated = self.dense_1(concatenated)\n",
        "        concatenated = self.dropout(concatenated, training)\n",
        "        model_output = self.last_dense(concatenated)\n",
        "        \n",
        "        return model_output"
      ],
      "execution_count": 0,
      "outputs": []
    },
    {
      "cell_type": "code",
      "metadata": {
        "id": "YKvOon9MCcnF",
        "colab_type": "code",
        "colab": {}
      },
      "source": [
        "VOCAB_LENGTH = len(tokenizer.vocab)\n",
        "EMB_DIM = 100\n",
        "CNN_FILTERS = 100\n",
        "DNN_UNITS = 128\n",
        "OUTPUT_CLASSES = len(set(y))\n",
        "\n",
        "DROPOUT_RATE = 0.6\n",
        "\n",
        "NB_EPOCHS = 20"
      ],
      "execution_count": 0,
      "outputs": []
    },
    {
      "cell_type": "code",
      "metadata": {
        "id": "_SfPni8-Cl0x",
        "colab_type": "code",
        "colab": {}
      },
      "source": [
        "text_model = TEXT_MODEL(vocabulary_size=VOCAB_LENGTH,\n",
        "                        embedding_dimensions=EMB_DIM,\n",
        "                        cnn_filters=CNN_FILTERS,\n",
        "                        dnn_units=DNN_UNITS,\n",
        "                        model_output_classes=OUTPUT_CLASSES,\n",
        "                        dropout_rate=DROPOUT_RATE)"
      ],
      "execution_count": 0,
      "outputs": []
    },
    {
      "cell_type": "code",
      "metadata": {
        "id": "1ypDEh97CoZf",
        "colab_type": "code",
        "colab": {}
      },
      "source": [
        "if OUTPUT_CLASSES == 2:\n",
        "    text_model.compile(loss=\"binary_crossentropy\",\n",
        "                       optimizer=\"adam\",\n",
        "                       metrics=[\"accuracy\"])\n",
        "else:\n",
        "    text_model.compile(loss=\"sparse_categorical_crossentropy\",\n",
        "                       optimizer=\"adam\",\n",
        "                       metrics=[\"sparse_categorical_accuracy\"])"
      ],
      "execution_count": 0,
      "outputs": []
    },
    {
      "cell_type": "markdown",
      "metadata": {
        "id": "zXEaTmlWcdLk",
        "colab_type": "text"
      },
      "source": [
        "#### Checkpoints"
      ]
    },
    {
      "cell_type": "code",
      "metadata": {
        "id": "_8oEnAsscVAY",
        "colab_type": "code",
        "colab": {}
      },
      "source": [
        "checkpoint_directory = \"/content/drive/My Drive/NewsClassifier/CNN/New_checks/\"\n",
        "checkpoint = tf.train.Checkpoint(model=text_model) \n",
        "manager = tf.train.CheckpointManager(checkpoint,checkpoint_directory,max_to_keep=1)\n",
        "# if manager.latest_checkpoint:\n",
        "#   checkpoint.restore(manager.latest_checkpoint) #Restores this Checkpoint and any objects it depends on.\n",
        "#   print(\"Latest Checkpoint restored!! \") "
      ],
      "execution_count": 0,
      "outputs": []
    },
    {
      "cell_type": "code",
      "metadata": {
        "id": "WkuoaBkFSlmP",
        "colab_type": "code",
        "colab": {}
      },
      "source": [
        "checkpoint_path = \"/content/drive/My Drive/NewsClassifier/CNN/Checkpoints/cp-{epoch:04d}.ckpt\"\n",
        "checkpoint_dir = os.path.dirname(checkpoint_path)\n",
        "chkpt = tf.keras.callbacks.ModelCheckpoint(\n",
        "    checkpoint_path, monitor='val_loss', verbose=1, save_best_only=True,\n",
        "    save_weights_only=False, mode='min'\n",
        ")\n",
        "\n",
        "early_stopping = tf.keras.callbacks.EarlyStopping(\n",
        "    monitor='val_sparse_categorical_accuracy', min_delta=0, patience=3, verbose=1, mode='max',\n",
        "    baseline=None, restore_best_weights=False\n",
        ")\n",
        "\n",
        "callbacks =[chkpt, early_stopping]"
      ],
      "execution_count": 0,
      "outputs": []
    },
    {
      "cell_type": "markdown",
      "metadata": {
        "id": "uLkJ1yPde8q8",
        "colab_type": "text"
      },
      "source": [
        "### Train"
      ]
    },
    {
      "cell_type": "code",
      "metadata": {
        "id": "6SzVDQq2cgLv",
        "colab_type": "code",
        "outputId": "7e75a02e-6239-4a35-b2c8-68acb0307243",
        "colab": {
          "base_uri": "https://localhost:8080/",
          "height": 454
        }
      },
      "source": [
        "r =text_model.fit(dataset_train,\n",
        "               epochs=NB_EPOCHS,\n",
        "               callbacks=callbacks,\n",
        "               validation_data=dataset_val)\n",
        "manager.save()"
      ],
      "execution_count": 161,
      "outputs": [
        {
          "output_type": "stream",
          "text": [
            "Epoch 1/20\n",
            "2370/2370 [==============================] - ETA: 0s - loss: 1.9697 - sparse_categorical_accuracy: 0.5007\n",
            "Epoch 00001: val_loss improved from inf to 1.30727, saving model to /content/drive/My Drive/NewsClassifier/CNN/Checkpoints/cp-0001.ckpt\n",
            "2370/2370 [==============================] - 73s 31ms/step - loss: 1.9697 - sparse_categorical_accuracy: 0.5007 - val_loss: 1.3073 - val_sparse_categorical_accuracy: 0.6549\n",
            "Epoch 2/20\n",
            "2370/2370 [==============================] - ETA: 0s - loss: 1.2898 - sparse_categorical_accuracy: 0.6590\n",
            "Epoch 00002: val_loss improved from 1.30727 to 1.15143, saving model to /content/drive/My Drive/NewsClassifier/CNN/Checkpoints/cp-0002.ckpt\n",
            "2370/2370 [==============================] - 73s 31ms/step - loss: 1.2898 - sparse_categorical_accuracy: 0.6590 - val_loss: 1.1514 - val_sparse_categorical_accuracy: 0.6936\n",
            "Epoch 3/20\n",
            "2369/2370 [============================>.] - ETA: 0s - loss: 1.0443 - sparse_categorical_accuracy: 0.7131\n",
            "Epoch 00003: val_loss did not improve from 1.15143\n",
            "2370/2370 [==============================] - 73s 31ms/step - loss: 1.0442 - sparse_categorical_accuracy: 0.7131 - val_loss: 1.1710 - val_sparse_categorical_accuracy: 0.6978\n",
            "Epoch 4/20\n",
            "2370/2370 [==============================] - ETA: 0s - loss: 0.8603 - sparse_categorical_accuracy: 0.7580\n",
            "Epoch 00004: val_loss did not improve from 1.15143\n",
            "2370/2370 [==============================] - 72s 31ms/step - loss: 0.8603 - sparse_categorical_accuracy: 0.7580 - val_loss: 1.2387 - val_sparse_categorical_accuracy: 0.6978\n",
            "Epoch 5/20\n",
            "2369/2370 [============================>.] - ETA: 0s - loss: 0.7206 - sparse_categorical_accuracy: 0.7915\n",
            "Epoch 00005: val_loss did not improve from 1.15143\n",
            "2370/2370 [==============================] - 72s 31ms/step - loss: 0.7206 - sparse_categorical_accuracy: 0.7915 - val_loss: 1.3322 - val_sparse_categorical_accuracy: 0.6977\n",
            "Epoch 6/20\n",
            "2370/2370 [==============================] - ETA: 0s - loss: 0.6040 - sparse_categorical_accuracy: 0.8206\n",
            "Epoch 00006: val_loss did not improve from 1.15143\n",
            "2370/2370 [==============================] - 72s 31ms/step - loss: 0.6040 - sparse_categorical_accuracy: 0.8206 - val_loss: 1.4987 - val_sparse_categorical_accuracy: 0.6917\n",
            "Epoch 00006: early stopping\n"
          ],
          "name": "stdout"
        },
        {
          "output_type": "execute_result",
          "data": {
            "text/plain": [
              "'/content/drive/My Drive/NewsClassifier/CNN/New_checks/ckpt-1'"
            ]
          },
          "metadata": {
            "tags": []
          },
          "execution_count": 161
        }
      ]
    },
    {
      "cell_type": "code",
      "metadata": {
        "id": "o1pgHMk0guhE",
        "colab_type": "code",
        "outputId": "e34c7736-3ead-4918-c947-c92476ba9366",
        "colab": {
          "base_uri": "https://localhost:8080/",
          "height": 280
        }
      },
      "source": [
        "plt.plot(r.history['loss'])\n",
        "plt.plot(r.history['val_loss'])"
      ],
      "execution_count": 162,
      "outputs": [
        {
          "output_type": "execute_result",
          "data": {
            "text/plain": [
              "[<matplotlib.lines.Line2D at 0x7f3e84e2a748>]"
            ]
          },
          "metadata": {
            "tags": []
          },
          "execution_count": 162
        },
        {
          "output_type": "display_data",
          "data": {
            "image/png": "[encoded data removed]",
            "text/plain": [
              "<Figure size 432x288 with 1 Axes>"
            ]
          },
          "metadata": {
            "tags": [],
            "needs_background": "light"
          }
        }
      ]
    },
    {
      "cell_type": "code",
      "metadata": {
        "id": "arfVXqFSgydq",
        "colab_type": "code",
        "outputId": "75d9097c-1db9-443f-ee86-c0d458bf19ad",
        "colab": {
          "base_uri": "https://localhost:8080/",
          "height": 280
        }
      },
      "source": [
        "plt.plot(r.history['sparse_categorical_accuracy'])\n",
        "plt.plot(r.history['val_sparse_categorical_accuracy'])"
      ],
      "execution_count": 163,
      "outputs": [
        {
          "output_type": "execute_result",
          "data": {
            "text/plain": [
              "[<matplotlib.lines.Line2D at 0x7f3dd4777a20>]"
            ]
          },
          "metadata": {
            "tags": []
          },
          "execution_count": 163
        },
        {
          "output_type": "display_data",
          "data": {
            "image/png": "[encoded data removed]",
            "text/plain": [
              "<Figure size 432x288 with 1 Axes>"
            ]
          },
          "metadata": {
            "tags": [],
            "needs_background": "light"
          }
        }
      ]
    },
    {
      "cell_type": "code",
      "metadata": {
        "id": "LpKm5EFrcyJt",
        "colab_type": "code",
        "outputId": "b30ab35c-a11a-4cc2-dad2-e13111a4e331",
        "colab": {
          "base_uri": "https://localhost:8080/",
          "height": 50
        }
      },
      "source": [
        "results = text_model.evaluate(dataset_test)\n",
        "print(results)"
      ],
      "execution_count": 164,
      "outputs": [
        {
          "output_type": "stream",
          "text": [
            "297/297 [==============================] - 1s 3ms/step - loss: 1.5134 - sparse_categorical_accuracy: 0.6925\n",
            "[1.5134437084197998, 0.6925308704376221]\n"
          ],
          "name": "stdout"
        }
      ]
    },
    {
      "cell_type": "code",
      "metadata": {
        "id": "N1YR5dWSlQpK",
        "colab_type": "code",
        "colab": {}
      },
      "source": [
        ""
      ],
      "execution_count": 0,
      "outputs": []
    }
  ]
}
