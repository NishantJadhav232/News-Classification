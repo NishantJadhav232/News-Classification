{
 "cells": [
  {
   "cell_type": "code",
   "execution_count": 2,
   "metadata": {
    "colab": {
     "base_uri": "https://localhost:8080/",
     "height": 70
    },
    "colab_type": "code",
    "id": "7j3jykNJJPIm",
    "outputId": "590d0b56-f1b2-4e7d-887d-5679f88f62cd"
   },
   "outputs": [
    {
     "name": "stderr",
     "output_type": "stream",
     "text": [
      "/usr/local/lib/python3.6/dist-packages/statsmodels/tools/_testing.py:19: FutureWarning: pandas.util.testing is deprecated. Use the functions in the public API at pandas.testing instead.\n",
      "  import pandas.util.testing as tm\n"
     ]
    }
   ],
   "source": [
    "import numpy as np\n",
    "import pandas as pd\n",
    "import seaborn as sns\n",
    "import matplotlib.pyplot as plt\n",
    "import os\n",
    "from google.colab import drive\n",
    "import re\n",
    "%matplotlib inline"
   ]
  },
  {
   "cell_type": "code",
   "execution_count": 3,
   "metadata": {
    "colab": {
     "base_uri": "https://localhost:8080/",
     "height": 34
    },
    "colab_type": "code",
    "id": "jg4n5vfbY2p5",
    "outputId": "7108f3c5-d24d-4dd1-c742-e55fcc90c039"
   },
   "outputs": [
    {
     "name": "stdout",
     "output_type": "stream",
     "text": [
      "Drive already mounted at /content/drive; to attempt to forcibly remount, call drive.mount(\"/content/drive\", force_remount=True).\n"
     ]
    }
   ],
   "source": [
    "drive.mount('/content/drive')"
   ]
  },
  {
   "cell_type": "code",
   "execution_count": 0,
   "metadata": {
    "colab": {},
    "colab_type": "code",
    "id": "6RW6T0aOZCcj"
   },
   "outputs": [],
   "source": [
    "import pickle\n",
    "data = pickle.load(open('/content/drive/My Drive/NewsClassifier/News_data_with_length','rb'))"
   ]
  },
  {
   "cell_type": "code",
   "execution_count": 5,
   "metadata": {
    "colab": {
     "base_uri": "https://localhost:8080/",
     "height": 269
    },
    "colab_type": "code",
    "id": "CRVJ6AKjdshR",
    "outputId": "440ce418-7aae-4dd4-b0ab-b0d3586163a2"
   },
   "outputs": [
    {
     "name": "stdout",
     "output_type": "stream",
     "text": [
      "<class 'pandas.core.frame.DataFrame'>\n",
      "Int64Index: 196390 entries, 0 to 200852\n",
      "Data columns (total 8 columns):\n",
      " #   Column                    Non-Null Count   Dtype \n",
      "---  ------                    --------------   ----- \n",
      " 0   category                  196390 non-null  object\n",
      " 1   headline                  196390 non-null  object\n",
      " 2   authors                   196390 non-null  object\n",
      " 3   short_description         196390 non-null  object\n",
      " 4   headline_length           196390 non-null  int64 \n",
      " 5   short_description_length  196390 non-null  int64 \n",
      " 6   information               196390 non-null  object\n",
      " 7   info_length               196390 non-null  int64 \n",
      "dtypes: int64(3), object(5)\n",
      "memory usage: 13.5+ MB\n"
     ]
    }
   ],
   "source": [
    "data.info()"
   ]
  },
  {
   "cell_type": "code",
   "execution_count": 6,
   "metadata": {
    "colab": {
     "base_uri": "https://localhost:8080/",
     "height": 140
    },
    "colab_type": "code",
    "id": "muluclq_Za8J",
    "outputId": "b3210784-aba9-4de7-a1c9-ede2aa944267"
   },
   "outputs": [
    {
     "data": {
      "text/html": [
       "<div>\n",
       "<style scoped>\n",
       "    .dataframe tbody tr th:only-of-type {\n",
       "        vertical-align: middle;\n",
       "    }\n",
       "\n",
       "    .dataframe tbody tr th {\n",
       "        vertical-align: top;\n",
       "    }\n",
       "\n",
       "    .dataframe thead th {\n",
       "        text-align: right;\n",
       "    }\n",
       "</style>\n",
       "<table border=\"1\" class=\"dataframe\">\n",
       "  <thead>\n",
       "    <tr style=\"text-align: right;\">\n",
       "      <th></th>\n",
       "      <th>category</th>\n",
       "      <th>headline</th>\n",
       "      <th>authors</th>\n",
       "      <th>short_description</th>\n",
       "      <th>headline_length</th>\n",
       "      <th>short_description_length</th>\n",
       "      <th>information</th>\n",
       "      <th>info_length</th>\n",
       "    </tr>\n",
       "  </thead>\n",
       "  <tbody>\n",
       "    <tr>\n",
       "      <th>200851</th>\n",
       "      <td>SPORTS</td>\n",
       "      <td>Aldon Smith Arrested: 49ers Linebacker Busted ...</td>\n",
       "      <td></td>\n",
       "      <td>CORRECTION: An earlier version of this story i...</td>\n",
       "      <td>8</td>\n",
       "      <td>20</td>\n",
       "      <td>Aldon Smith Arrested: 49ers Linebacker Busted ...</td>\n",
       "      <td>28</td>\n",
       "    </tr>\n",
       "    <tr>\n",
       "      <th>200852</th>\n",
       "      <td>SPORTS</td>\n",
       "      <td>Dwight Howard Rips Teammates After Magic Loss ...</td>\n",
       "      <td></td>\n",
       "      <td>The five-time all-star center tore into his te...</td>\n",
       "      <td>9</td>\n",
       "      <td>19</td>\n",
       "      <td>Dwight Howard Rips Teammates After Magic Loss ...</td>\n",
       "      <td>28</td>\n",
       "    </tr>\n",
       "  </tbody>\n",
       "</table>\n",
       "</div>"
      ],
      "text/plain": [
       "       category  ... info_length\n",
       "200851   SPORTS  ...          28\n",
       "200852   SPORTS  ...          28\n",
       "\n",
       "[2 rows x 8 columns]"
      ]
     },
     "execution_count": 6,
     "metadata": {
      "tags": []
     },
     "output_type": "execute_result"
    }
   ],
   "source": [
    "data.tail(2)"
   ]
  },
  {
   "cell_type": "code",
   "execution_count": 0,
   "metadata": {
    "colab": {},
    "colab_type": "code",
    "id": "q5PPbp6XZds5"
   },
   "outputs": [],
   "source": [
    "df =data.drop(['headline','short_description','headline_length','short_description_length'],axis=1)"
   ]
  },
  {
   "cell_type": "code",
   "execution_count": 8,
   "metadata": {
    "colab": {
     "base_uri": "https://localhost:8080/",
     "height": 106
    },
    "colab_type": "code",
    "id": "We7nR0j4dOaK",
    "outputId": "0c0ee94a-a70d-4673-9f85-8f67af1bb71d"
   },
   "outputs": [
    {
     "data": {
      "text/html": [
       "<div>\n",
       "<style scoped>\n",
       "    .dataframe tbody tr th:only-of-type {\n",
       "        vertical-align: middle;\n",
       "    }\n",
       "\n",
       "    .dataframe tbody tr th {\n",
       "        vertical-align: top;\n",
       "    }\n",
       "\n",
       "    .dataframe thead th {\n",
       "        text-align: right;\n",
       "    }\n",
       "</style>\n",
       "<table border=\"1\" class=\"dataframe\">\n",
       "  <thead>\n",
       "    <tr style=\"text-align: right;\">\n",
       "      <th></th>\n",
       "      <th>category</th>\n",
       "      <th>authors</th>\n",
       "      <th>information</th>\n",
       "      <th>info_length</th>\n",
       "    </tr>\n",
       "  </thead>\n",
       "  <tbody>\n",
       "    <tr>\n",
       "      <th>0</th>\n",
       "      <td>CRIME</td>\n",
       "      <td>Melissa Jeltsen</td>\n",
       "      <td>There Were 2 Mass Shootings In Texas Last Week...</td>\n",
       "      <td>27</td>\n",
       "    </tr>\n",
       "    <tr>\n",
       "      <th>1</th>\n",
       "      <td>ENTERTAINMENT</td>\n",
       "      <td>Andy McDonald</td>\n",
       "      <td>Will Smith Joins Diplo And Nicky Jam For The 2...</td>\n",
       "      <td>20</td>\n",
       "    </tr>\n",
       "  </tbody>\n",
       "</table>\n",
       "</div>"
      ],
      "text/plain": [
       "        category  ... info_length\n",
       "0          CRIME  ...          27\n",
       "1  ENTERTAINMENT  ...          20\n",
       "\n",
       "[2 rows x 4 columns]"
      ]
     },
     "execution_count": 8,
     "metadata": {
      "tags": []
     },
     "output_type": "execute_result"
    }
   ],
   "source": [
    "df.head(2)"
   ]
  },
  {
   "cell_type": "markdown",
   "metadata": {
    "colab_type": "text",
    "id": "wZdbh364ac0K"
   },
   "source": [
    "### Preprocessing"
   ]
  },
  {
   "cell_type": "code",
   "execution_count": 9,
   "metadata": {
    "colab": {
     "base_uri": "https://localhost:8080/",
     "height": 70
    },
    "colab_type": "code",
    "id": "9p6NPCTNaeI1",
    "outputId": "c3275adb-d3f4-4639-ec70-fe6ef32febcb"
   },
   "outputs": [
    {
     "data": {
      "text/plain": [
       "array(['Sunday Roundup. This week the nation watched as the #NeverTrump movement folded faster than one of the presumptive nominee\\'s beachfront developments. As many tried to explain away Trump\\'s reckless, racist extremism, a few put principle over party. The wife of former Republican Senator Bob Bennett, who died on May 4, revealed that her husband spent his dying hours reaching out to Muslims. \"He would go to people with the hijab [on] and tell them he was glad they were in America,\" she told the Daily Beast. \"He wanted to apologize on behalf of the Republican Party.\" In the U.K., Prime Minister David Cameron called Trump\\'s proposal to ban Muslims from entering the U.S., \"divisive, stupid and wrong.\" Trump\\'s reply was that he didn\\'t think he and Cameron would \"have a very good relationship.\" The press is also doing its part to whitewash extremism. The New York Times called Trump\\'s racism \"a reductive approach to ethnicity,\" and said Trump\\'s attitude toward women is \"complex\" and \"defies simple categorization,\" as if sexism is suddenly as complicated as string theory. Not everybody\\'s going along. Bob Garfield, co-host of \"On the Media,\" warned the press of the danger of normalizing Trump. \"Every interview with Donald Trump, every single one should hold him accountable for bigotry, incitement, juvenile conduct and blithe contempt for the Constitution,\" he said. \"The voters will do what the voters will do, but it must not be, cannot be because the press did not do enough.\"'],\n",
       "      dtype=object)"
      ]
     },
     "execution_count": 9,
     "metadata": {
      "tags": []
     },
     "output_type": "execute_result"
    }
   ],
   "source": [
    "df[df.info_length == max(df.info_length)]['information'].values"
   ]
  },
  {
   "cell_type": "code",
   "execution_count": 0,
   "metadata": {
    "colab": {},
    "colab_type": "code",
    "id": "TxuAbj00apoV"
   },
   "outputs": [],
   "source": [
    "from nltk.stem import PorterStemmer\n",
    "from nltk.tokenize import TreebankWordTokenizer\n",
    "stemmer = PorterStemmer()\n",
    "tokenizer = TreebankWordTokenizer()"
   ]
  },
  {
   "cell_type": "code",
   "execution_count": 0,
   "metadata": {
    "colab": {},
    "colab_type": "code",
    "id": "7ZpeZr5Bb3RS"
   },
   "outputs": [],
   "source": [
    "def clean_text(text):\n",
    "  text = re.sub(r\"@[A-Za-z0-9]+\",\" \",text) # remove @usernames\n",
    "  text = re.sub(r\"https?://[A-Za-z0-9./]+\",\" \",text) #remove https links\n",
    "  text = re.sub(r\"[^A-Za-z.!?']\",\" \",text)  # keep only letters and few punctuations\n",
    "  text = re.sub(r\" +\",\" \",text) # remove extra spaces\n",
    "  text = text.lower()\n",
    "  return text"
   ]
  },
  {
   "cell_type": "code",
   "execution_count": 0,
   "metadata": {
    "colab": {},
    "colab_type": "code",
    "id": "4RvZ2tgHdJzi"
   },
   "outputs": [],
   "source": [
    "df['cleaned_info'] = df.information.apply(clean_text)"
   ]
  },
  {
   "cell_type": "code",
   "execution_count": 13,
   "metadata": {
    "colab": {
     "base_uri": "https://localhost:8080/",
     "height": 70
    },
    "colab_type": "code",
    "id": "cZgAmU6admQY",
    "outputId": "b318e48e-3903-4c70-bfbc-a96928361c39"
   },
   "outputs": [
    {
     "data": {
      "text/plain": [
       "array([\"sunday roundup. this week the nation watched as the nevertrump movement folded faster than one of the presumptive nominee's beachfront developments. as many tried to explain away trump's reckless racist extremism a few put principle over party. the wife of former republican senator bob bennett who died on may revealed that her husband spent his dying hours reaching out to muslims. he would go to people with the hijab on and tell them he was glad they were in america she told the daily beast. he wanted to apologize on behalf of the republican party. in the u.k. prime minister david cameron called trump's proposal to ban muslims from entering the u.s. divisive stupid and wrong. trump's reply was that he didn't think he and cameron would have a very good relationship. the press is also doing its part to whitewash extremism. the new york times called trump's racism a reductive approach to ethnicity and said trump's attitude toward women is complex and defies simple categorization as if sexism is suddenly as complicated as string theory. not everybody's going along. bob garfield co host of on the media warned the press of the danger of normalizing trump. every interview with donald trump every single one should hold him accountable for bigotry incitement juvenile conduct and blithe contempt for the constitution he said. the voters will do what the voters will do but it must not be cannot be because the press did not do enough. \"],\n",
       "      dtype=object)"
      ]
     },
     "execution_count": 13,
     "metadata": {
      "tags": []
     },
     "output_type": "execute_result"
    }
   ],
   "source": [
    "sentence =df[df.info_length == max(df.info_length)]['cleaned_info'].values\n",
    "sentence"
   ]
  },
  {
   "cell_type": "code",
   "execution_count": 0,
   "metadata": {
    "colab": {},
    "colab_type": "code",
    "id": "xjWCUov2d1Bz"
   },
   "outputs": [],
   "source": [
    "def process(text):\n",
    "  words = tokenizer.tokenize(text)\n",
    "  words = [stemmer.stem(word) for word in words]\n",
    "  return ' '.join(words)\n"
   ]
  },
  {
   "cell_type": "code",
   "execution_count": 0,
   "metadata": {
    "colab": {},
    "colab_type": "code",
    "id": "YRP3_1nkgdtN"
   },
   "outputs": [],
   "source": [
    "df['processed_info'] = df.cleaned_info.apply(process)"
   ]
  },
  {
   "cell_type": "code",
   "execution_count": 16,
   "metadata": {
    "colab": {
     "base_uri": "https://localhost:8080/",
     "height": 70
    },
    "colab_type": "code",
    "id": "c087yAx2gwrt",
    "outputId": "8236ef66-9862-404f-a7c2-ec617c9c1610"
   },
   "outputs": [
    {
     "data": {
      "text/plain": [
       "array([\"sunday roundup. thi week the nation watch as the nevertrump movement fold faster than one of the presumpt nomine 's beachfront developments. as mani tri to explain away trump 's reckless racist extrem a few put principl over party. the wife of former republican senat bob bennett who die on may reveal that her husband spent hi die hour reach out to muslims. he would go to peopl with the hijab on and tell them he wa glad they were in america she told the daili beast. he want to apolog on behalf of the republican party. in the u.k. prime minist david cameron call trump 's propos to ban muslim from enter the u.s. divis stupid and wrong. trump 's repli wa that he did n't think he and cameron would have a veri good relationship. the press is also do it part to whitewash extremism. the new york time call trump 's racism a reduct approach to ethnic and said trump 's attitud toward women is complex and defi simpl categor as if sexism is suddenli as complic as string theory. not everybodi 's go along. bob garfield co host of on the media warn the press of the danger of normal trump. everi interview with donald trump everi singl one should hold him account for bigotri incit juvenil conduct and blith contempt for the constitut he said. the voter will do what the voter will do but it must not be can not be becaus the press did not do enough .\"],\n",
       "      dtype=object)"
      ]
     },
     "execution_count": 16,
     "metadata": {
      "tags": []
     },
     "output_type": "execute_result"
    }
   ],
   "source": [
    "df[df.info_length == max(df.info_length)]['processed_info'].values"
   ]
  },
  {
   "cell_type": "markdown",
   "metadata": {},
   "source": [
    "#### Treebank tokenizer helps handle words like isn't --> is n't , trump's --> trump 's\n",
    "#### Porter stemmer helps to reduce to root word based on some rules. reply --> repli , cats --> cat . It is slightly less aggressive than other stemming options "
   ]
  },
  {
   "cell_type": "code",
   "execution_count": 17,
   "metadata": {
    "colab": {
     "base_uri": "https://localhost:8080/",
     "height": 106
    },
    "colab_type": "code",
    "id": "VFZR0GSDhYpr",
    "outputId": "9ef45d86-f292-4638-85ff-2760abdb51a6"
   },
   "outputs": [
    {
     "data": {
      "text/html": [
       "<div>\n",
       "<style scoped>\n",
       "    .dataframe tbody tr th:only-of-type {\n",
       "        vertical-align: middle;\n",
       "    }\n",
       "\n",
       "    .dataframe tbody tr th {\n",
       "        vertical-align: top;\n",
       "    }\n",
       "\n",
       "    .dataframe thead th {\n",
       "        text-align: right;\n",
       "    }\n",
       "</style>\n",
       "<table border=\"1\" class=\"dataframe\">\n",
       "  <thead>\n",
       "    <tr style=\"text-align: right;\">\n",
       "      <th></th>\n",
       "      <th>category</th>\n",
       "      <th>authors</th>\n",
       "      <th>information</th>\n",
       "      <th>info_length</th>\n",
       "      <th>cleaned_info</th>\n",
       "      <th>processed_info</th>\n",
       "    </tr>\n",
       "  </thead>\n",
       "  <tbody>\n",
       "    <tr>\n",
       "      <th>0</th>\n",
       "      <td>CRIME</td>\n",
       "      <td>Melissa Jeltsen</td>\n",
       "      <td>There Were 2 Mass Shootings In Texas Last Week...</td>\n",
       "      <td>27</td>\n",
       "      <td>there were mass shootings in texas last week b...</td>\n",
       "      <td>there were mass shoot in texa last week but on...</td>\n",
       "    </tr>\n",
       "    <tr>\n",
       "      <th>1</th>\n",
       "      <td>ENTERTAINMENT</td>\n",
       "      <td>Andy McDonald</td>\n",
       "      <td>Will Smith Joins Diplo And Nicky Jam For The 2...</td>\n",
       "      <td>20</td>\n",
       "      <td>will smith joins diplo and nicky jam for the w...</td>\n",
       "      <td>will smith join diplo and nicki jam for the wo...</td>\n",
       "    </tr>\n",
       "  </tbody>\n",
       "</table>\n",
       "</div>"
      ],
      "text/plain": [
       "        category  ...                                     processed_info\n",
       "0          CRIME  ...  there were mass shoot in texa last week but on...\n",
       "1  ENTERTAINMENT  ...  will smith join diplo and nicki jam for the wo...\n",
       "\n",
       "[2 rows x 6 columns]"
      ]
     },
     "execution_count": 17,
     "metadata": {
      "tags": []
     },
     "output_type": "execute_result"
    }
   ],
   "source": [
    "df.head(2)"
   ]
  },
  {
   "cell_type": "code",
   "execution_count": 18,
   "metadata": {
    "colab": {
     "base_uri": "https://localhost:8080/",
     "height": 140
    },
    "colab_type": "code",
    "id": "Ek5Xg9Mli889",
    "outputId": "4f27d5f5-f73f-4b2b-b571-31269af209f7"
   },
   "outputs": [
    {
     "data": {
      "text/html": [
       "<div>\n",
       "<style scoped>\n",
       "    .dataframe tbody tr th:only-of-type {\n",
       "        vertical-align: middle;\n",
       "    }\n",
       "\n",
       "    .dataframe tbody tr th {\n",
       "        vertical-align: top;\n",
       "    }\n",
       "\n",
       "    .dataframe thead th {\n",
       "        text-align: right;\n",
       "    }\n",
       "</style>\n",
       "<table border=\"1\" class=\"dataframe\">\n",
       "  <thead>\n",
       "    <tr style=\"text-align: right;\">\n",
       "      <th></th>\n",
       "      <th>category</th>\n",
       "      <th>authors</th>\n",
       "      <th>information</th>\n",
       "      <th>info_length</th>\n",
       "      <th>cleaned_info</th>\n",
       "      <th>processed_info</th>\n",
       "      <th>inputs</th>\n",
       "    </tr>\n",
       "  </thead>\n",
       "  <tbody>\n",
       "    <tr>\n",
       "      <th>0</th>\n",
       "      <td>CRIME</td>\n",
       "      <td>Melissa Jeltsen</td>\n",
       "      <td>There Were 2 Mass Shootings In Texas Last Week...</td>\n",
       "      <td>27</td>\n",
       "      <td>there were mass shootings in texas last week b...</td>\n",
       "      <td>there were mass shoot in texa last week but on...</td>\n",
       "      <td>there were mass shoot in texa last week but on...</td>\n",
       "    </tr>\n",
       "    <tr>\n",
       "      <th>1</th>\n",
       "      <td>ENTERTAINMENT</td>\n",
       "      <td>Andy McDonald</td>\n",
       "      <td>Will Smith Joins Diplo And Nicky Jam For The 2...</td>\n",
       "      <td>20</td>\n",
       "      <td>will smith joins diplo and nicky jam for the w...</td>\n",
       "      <td>will smith join diplo and nicki jam for the wo...</td>\n",
       "      <td>will smith join diplo and nicki jam for the wo...</td>\n",
       "    </tr>\n",
       "  </tbody>\n",
       "</table>\n",
       "</div>"
      ],
      "text/plain": [
       "        category  ...                                             inputs\n",
       "0          CRIME  ...  there were mass shoot in texa last week but on...\n",
       "1  ENTERTAINMENT  ...  will smith join diplo and nicki jam for the wo...\n",
       "\n",
       "[2 rows x 7 columns]"
      ]
     },
     "execution_count": 18,
     "metadata": {
      "tags": []
     },
     "output_type": "execute_result"
    }
   ],
   "source": [
    "df['inputs'] = df['processed_info'] + ' ' + df['authors']\n",
    "df.head(2)"
   ]
  },
  {
   "cell_type": "code",
   "execution_count": 19,
   "metadata": {
    "colab": {
     "base_uri": "https://localhost:8080/",
     "height": 34
    },
    "colab_type": "code",
    "id": "TkwBQ6z5jItL",
    "outputId": "10f91ca9-72c5-495f-e4f8-048cfdc5076b"
   },
   "outputs": [
    {
     "data": {
      "text/plain": [
       "'there were mass shoot in texa last week but onli on tv. she left her husband. he kill their children. just anoth day in america . Melissa Jeltsen'"
      ]
     },
     "execution_count": 19,
     "metadata": {
      "tags": []
     },
     "output_type": "execute_result"
    }
   ],
   "source": [
    "df.loc[0]['inputs']"
   ]
  },
  {
   "cell_type": "code",
   "execution_count": 0,
   "metadata": {
    "colab": {},
    "colab_type": "code",
    "id": "aFqMKaOMmdaS"
   },
   "outputs": [],
   "source": [
    "import pickle\n",
    "pickle.dump(df,open('/content/drive/My Drive/NewsClassifier/inputs','wb'))"
   ]
  },
  {
   "cell_type": "markdown",
   "metadata": {
    "colab_type": "text",
    "id": "w_RveLCrin7a"
   },
   "source": [
    "## TRAINING"
   ]
  },
  {
   "cell_type": "code",
   "execution_count": 0,
   "metadata": {
    "colab": {},
    "colab_type": "code",
    "id": "LtjA9HXJjViD"
   },
   "outputs": [],
   "source": [
    "import sklearn\n",
    "from sklearn.feature_extraction.text import TfidfVectorizer"
   ]
  },
  {
   "cell_type": "code",
   "execution_count": 0,
   "metadata": {
    "colab": {},
    "colab_type": "code",
    "id": "HwxdI-19iqv0"
   },
   "outputs": [],
   "source": [
    "X_train, X_test, Y_train, Y_test = sklearn.model_selection.train_test_split(df['inputs'], df['category'], test_size=0.3)"
   ]
  },
  {
   "cell_type": "code",
   "execution_count": 0,
   "metadata": {
    "colab": {},
    "colab_type": "code",
    "id": "TYSOrIDXkSZi"
   },
   "outputs": [],
   "source": [
    "X_train = np.array(X_train);\n",
    "X_test = np.array(X_test);\n",
    "Y_train = np.array(Y_train);\n",
    "Y_test = np.array(Y_test);"
   ]
  },
  {
   "cell_type": "code",
   "execution_count": 53,
   "metadata": {
    "colab": {
     "base_uri": "https://localhost:8080/",
     "height": 34
    },
    "colab_type": "code",
    "id": "NDomHUudkaZb",
    "outputId": "fa76d5c6-4b5e-4628-ae68-54537fb7ed07"
   },
   "outputs": [
    {
     "data": {
      "text/plain": [
       "(137473,)"
      ]
     },
     "execution_count": 53,
     "metadata": {
      "tags": []
     },
     "output_type": "execute_result"
    }
   ],
   "source": [
    "X_train.shape"
   ]
  },
  {
   "cell_type": "code",
   "execution_count": 0,
   "metadata": {
    "colab": {},
    "colab_type": "code",
    "id": "7pPNOIY5jTgJ"
   },
   "outputs": [],
   "source": [
    "vectorizer = TfidfVectorizer(min_df=2,max_df=0.5) ###  choose tokens with appropriate document frequency\n",
    "tfidf_train =vectorizer.fit_transform(X_train)"
   ]
  },
  {
   "cell_type": "code",
   "execution_count": 0,
   "metadata": {
    "colab": {},
    "colab_type": "code",
    "id": "24tSGP_CoCeB"
   },
   "outputs": [],
   "source": [
    "tfidf_test = vectorizer.transform(X_test)"
   ]
  },
  {
   "cell_type": "code",
   "execution_count": 28,
   "metadata": {
    "colab": {
     "base_uri": "https://localhost:8080/",
     "height": 50
    },
    "colab_type": "code",
    "id": "hB02kSZvnEBy",
    "outputId": "17731bcf-9d99-42b4-b3f1-af5766c45808"
   },
   "outputs": [
    {
     "data": {
      "text/plain": [
       "<137473x45166 sparse matrix of type '<class 'numpy.float64'>'\n",
       "\twith 3727377 stored elements in Compressed Sparse Row format>"
      ]
     },
     "execution_count": 28,
     "metadata": {
      "tags": []
     },
     "output_type": "execute_result"
    }
   ],
   "source": [
    "tfidf_train"
   ]
  },
  {
   "cell_type": "markdown",
   "metadata": {},
   "source": [
    "### Logistic Regression: 73%"
   ]
  },
  {
   "cell_type": "markdown",
   "metadata": {},
   "source": [
    "##### It is much faster than other algorithms like SVM. Linear SVM has more strict cost function than LR. It can provide more assurance. However, it has more time complexity "
   ]
  },
  {
   "cell_type": "code",
   "execution_count": 0,
   "metadata": {
    "colab": {},
    "colab_type": "code",
    "id": "NB7jPX9snMqk"
   },
   "outputs": [],
   "source": [
    "from sklearn.linear_model import LogisticRegression\n",
    "logistic_Regression = LogisticRegression()\n",
    "logistic_Regression.fit(tfidf_train,Y_train)"
   ]
  },
  {
   "cell_type": "code",
   "execution_count": 0,
   "metadata": {
    "colab": {},
    "colab_type": "code",
    "id": "SRFU4ijooQNt"
   },
   "outputs": [],
   "source": [
    "predictions = logistic_Regression.predict(tfidf_test)"
   ]
  },
  {
   "cell_type": "code",
   "execution_count": 40,
   "metadata": {
    "colab": {
     "base_uri": "https://localhost:8080/",
     "height": 974
    },
    "colab_type": "code",
    "id": "b0cZM0mFoZZi",
    "outputId": "684f116d-f618-4470-eeaf-742553ce8cb1"
   },
   "outputs": [
    {
     "name": "stdout",
     "output_type": "stream",
     "text": [
      "[[192  43   5 ...   4   0   1]\n",
      " [ 62 176   9 ...   3   1   0]\n",
      " [  2   1 655 ...  16   2   0]\n",
      " ...\n",
      " [  0   0  14 ... 434   3   2]\n",
      " [  0   1   2 ...   5 175  16]\n",
      " [  1   0   1 ...   4  11 189]]\n",
      "\n",
      "\n",
      "                precision    recall  f1-score   support\n",
      "\n",
      "          ARTS       0.59      0.45      0.51       423\n",
      "ARTS & CULTURE       0.75      0.44      0.55       404\n",
      "  BLACK VOICES       0.71      0.51      0.60      1273\n",
      "      BUSINESS       0.61      0.60      0.61      1719\n",
      "       COLLEGE       0.67      0.38      0.48       332\n",
      "        COMEDY       0.70      0.63      0.66      1541\n",
      "         CRIME       0.63      0.59      0.61       949\n",
      "CULTURE & ARTS       0.80      0.41      0.54       327\n",
      "       DIVORCE       0.87      0.72      0.78       990\n",
      "     EDUCATION       0.67      0.45      0.53       303\n",
      " ENTERTAINMENT       0.70      0.85      0.77      4628\n",
      "   ENVIRONMENT       0.74      0.27      0.40       404\n",
      "         FIFTY       0.81      0.35      0.49       373\n",
      "  FOOD & DRINK       0.80      0.86      0.83      1902\n",
      "     GOOD NEWS       0.77      0.47      0.58       439\n",
      "         GREEN       0.53      0.45      0.49       712\n",
      "HEALTHY LIVING       0.63      0.58      0.60      1950\n",
      " HOME & LIVING       0.90      0.81      0.85      1283\n",
      "        IMPACT       0.59      0.38      0.46      1064\n",
      " LATINO VOICES       0.89      0.50      0.64       327\n",
      "         MEDIA       0.79      0.48      0.60       828\n",
      "         MONEY       0.75      0.48      0.59       528\n",
      "     PARENTING       0.67      0.78      0.72      2587\n",
      "       PARENTS       0.76      0.56      0.65      1192\n",
      "      POLITICS       0.73      0.91      0.81      9559\n",
      "  QUEER VOICES       0.85      0.79      0.82      1788\n",
      "      RELIGION       0.75      0.60      0.66       699\n",
      "       SCIENCE       0.81      0.57      0.67       633\n",
      "        SPORTS       0.79      0.79      0.79      1433\n",
      "         STYLE       0.82      0.55      0.65       674\n",
      "STYLE & BEAUTY       0.82      0.88      0.85      2856\n",
      "         TASTE       0.78      0.52      0.62       614\n",
      "          TECH       0.79      0.54      0.64       625\n",
      " THE WORLDPOST       0.63      0.57      0.60      1098\n",
      "        TRAVEL       0.81      0.87      0.84      2999\n",
      "      WEDDINGS       0.86      0.77      0.81      1127\n",
      "    WEIRD NEWS       0.56      0.53      0.54       783\n",
      "      WELLNESS       0.69      0.90      0.78      5340\n",
      "         WOMEN       0.61      0.44      0.51       990\n",
      "    WORLD NEWS       0.56      0.26      0.35       674\n",
      "     WORLDPOST       0.64      0.35      0.45       547\n",
      "\n",
      "      accuracy                           0.73     58917\n",
      "     macro avg       0.73      0.58      0.63     58917\n",
      "  weighted avg       0.73      0.73      0.72     58917\n",
      "\n"
     ]
    }
   ],
   "source": [
    "from sklearn.metrics import confusion_matrix,classification_report\n",
    "\n",
    "print(confusion_matrix(Y_test,predictions))\n",
    "print('\\n')\n",
    "print(classification_report(Y_test,predictions))"
   ]
  }
 ],
 "metadata": {
  "colab": {
   "name": "ProcessAndTrain.ipynb",
   "provenance": []
  },
  "kernelspec": {
   "display_name": "Python 3",
   "language": "python",
   "name": "python3"
  },
  "language_info": {
   "codemirror_mode": {
    "name": "ipython",
    "version": 3
   },
   "file_extension": ".py",
   "mimetype": "text/x-python",
   "name": "python",
   "nbconvert_exporter": "python",
   "pygments_lexer": "ipython3",
   "version": "3.7.3"
  }
 },
 "nbformat": 4,
 "nbformat_minor": 1
}
